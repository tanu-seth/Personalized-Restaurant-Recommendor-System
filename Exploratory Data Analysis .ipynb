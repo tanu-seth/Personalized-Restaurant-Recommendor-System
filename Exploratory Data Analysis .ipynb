{
 "cells": [
  {
   "cell_type": "code",
   "execution_count": 1,
   "metadata": {},
   "outputs": [],
   "source": [
    "import pandas as pd\n",
    "import numpy as np\n",
    "import matplotlib.pyplot as plt\n",
    "%matplotlib inline\n",
    "import seaborn as sns"
   ]
  },
  {
   "cell_type": "markdown",
   "metadata": {},
   "source": [
    "Reading the Zomato_cincinnati_restaurants.csv using pandas"
   ]
  },
  {
   "cell_type": "code",
   "execution_count": 2,
   "metadata": {},
   "outputs": [],
   "source": [
    "df = pd.read_csv('zomato_restaurants_Cincinnati.csv')"
   ]
  },
  {
   "cell_type": "code",
   "execution_count": 3,
   "metadata": {},
   "outputs": [
    {
     "data": {
      "text/html": [
       "<div>\n",
       "<style scoped>\n",
       "    .dataframe tbody tr th:only-of-type {\n",
       "        vertical-align: middle;\n",
       "    }\n",
       "\n",
       "    .dataframe tbody tr th {\n",
       "        vertical-align: top;\n",
       "    }\n",
       "\n",
       "    .dataframe thead th {\n",
       "        text-align: right;\n",
       "    }\n",
       "</style>\n",
       "<table border=\"1\" class=\"dataframe\">\n",
       "  <thead>\n",
       "    <tr style=\"text-align: right;\">\n",
       "      <th></th>\n",
       "      <th>Unnamed: 0</th>\n",
       "      <th>rest_id</th>\n",
       "      <th>rest_name</th>\n",
       "      <th>locality</th>\n",
       "      <th>cuisines</th>\n",
       "      <th>cost_for_two</th>\n",
       "      <th>ratings</th>\n",
       "      <th>votes</th>\n",
       "    </tr>\n",
       "  </thead>\n",
       "  <tbody>\n",
       "    <tr>\n",
       "      <th>0</th>\n",
       "      <td>0</td>\n",
       "      <td>17114993</td>\n",
       "      <td>Terry's Turf Club</td>\n",
       "      <td>Hyde Park/Mount Lookout</td>\n",
       "      <td>['Burger', 'Bar Food', 'Sandwich']</td>\n",
       "      <td>$$</td>\n",
       "      <td>4.7</td>\n",
       "      <td>1038</td>\n",
       "    </tr>\n",
       "    <tr>\n",
       "      <th>1</th>\n",
       "      <td>1</td>\n",
       "      <td>17113965</td>\n",
       "      <td>Nada</td>\n",
       "      <td>Downtown</td>\n",
       "      <td>['Breakfast', 'Mexican']</td>\n",
       "      <td>$$$</td>\n",
       "      <td>4.6</td>\n",
       "      <td>933</td>\n",
       "    </tr>\n",
       "    <tr>\n",
       "      <th>2</th>\n",
       "      <td>2</td>\n",
       "      <td>17115298</td>\n",
       "      <td>Zip's Cafe</td>\n",
       "      <td>Hyde Park/Mount Lookout</td>\n",
       "      <td>['Burger', 'Bar Food', 'Sandwich']</td>\n",
       "      <td>$</td>\n",
       "      <td>4.7</td>\n",
       "      <td>694</td>\n",
       "    </tr>\n",
       "    <tr>\n",
       "      <th>3</th>\n",
       "      <td>3</td>\n",
       "      <td>17112031</td>\n",
       "      <td>Arthur's</td>\n",
       "      <td>Hyde Park/Mount Lookout</td>\n",
       "      <td>['Burger', 'Bar Food', 'Sandwich']</td>\n",
       "      <td>$$</td>\n",
       "      <td>4.7</td>\n",
       "      <td>632</td>\n",
       "    </tr>\n",
       "    <tr>\n",
       "      <th>4</th>\n",
       "      <td>4</td>\n",
       "      <td>17116251</td>\n",
       "      <td>Senate</td>\n",
       "      <td>Over-the-Rhine/Mount Auburn</td>\n",
       "      <td>['Bar Food']</td>\n",
       "      <td>$$</td>\n",
       "      <td>4.6</td>\n",
       "      <td>596</td>\n",
       "    </tr>\n",
       "  </tbody>\n",
       "</table>\n",
       "</div>"
      ],
      "text/plain": [
       "   Unnamed: 0   rest_id          rest_name                     locality  \\\n",
       "0           0  17114993  Terry's Turf Club      Hyde Park/Mount Lookout   \n",
       "1           1  17113965               Nada                     Downtown   \n",
       "2           2  17115298         Zip's Cafe      Hyde Park/Mount Lookout   \n",
       "3           3  17112031           Arthur's      Hyde Park/Mount Lookout   \n",
       "4           4  17116251             Senate  Over-the-Rhine/Mount Auburn   \n",
       "\n",
       "                             cuisines cost_for_two  ratings  votes  \n",
       "0  ['Burger', 'Bar Food', 'Sandwich']           $$      4.7   1038  \n",
       "1            ['Breakfast', 'Mexican']          $$$      4.6    933  \n",
       "2  ['Burger', 'Bar Food', 'Sandwich']            $      4.7    694  \n",
       "3  ['Burger', 'Bar Food', 'Sandwich']           $$      4.7    632  \n",
       "4                        ['Bar Food']           $$      4.6    596  "
      ]
     },
     "execution_count": 3,
     "metadata": {},
     "output_type": "execute_result"
    }
   ],
   "source": [
    "df.head()"
   ]
  },
  {
   "cell_type": "code",
   "execution_count": 6,
   "metadata": {},
   "outputs": [],
   "source": [
    "df.drop('Unnamed: 0',axis=1,inplace=True)"
   ]
  },
  {
   "cell_type": "code",
   "execution_count": 24,
   "metadata": {},
   "outputs": [],
   "source": [
    "df = df.set_index('rest_id')"
   ]
  },
  {
   "cell_type": "code",
   "execution_count": 8,
   "metadata": {},
   "outputs": [
    {
     "name": "stdout",
     "output_type": "stream",
     "text": [
      "<class 'pandas.core.frame.DataFrame'>\n",
      "RangeIndex: 1929 entries, 0 to 1928\n",
      "Data columns (total 7 columns):\n",
      "rest_id         1929 non-null int64\n",
      "rest_name       1929 non-null object\n",
      "locality        1929 non-null object\n",
      "cuisines        1929 non-null object\n",
      "cost_for_two    1929 non-null object\n",
      "ratings         1929 non-null float64\n",
      "votes           1929 non-null int64\n",
      "dtypes: float64(1), int64(2), object(4)\n",
      "memory usage: 105.6+ KB\n"
     ]
    }
   ],
   "source": [
    "df.info()"
   ]
  },
  {
   "cell_type": "code",
   "execution_count": 10,
   "metadata": {},
   "outputs": [
    {
     "data": {
      "text/plain": [
       "Index(['rest_id', 'rest_name', 'locality', 'cuisines', 'cost_for_two',\n",
       "       'ratings', 'votes'],\n",
       "      dtype='object')"
      ]
     },
     "execution_count": 10,
     "metadata": {},
     "output_type": "execute_result"
    }
   ],
   "source": [
    "df.columns"
   ]
  },
  {
   "cell_type": "markdown",
   "metadata": {},
   "source": [
    "We have total of 1929 rows and 6 columns. There are no missing values in the data. The columns names can be used as is. Let's have a look at the descriptive statistics."
   ]
  },
  {
   "cell_type": "code",
   "execution_count": 11,
   "metadata": {},
   "outputs": [
    {
     "data": {
      "text/html": [
       "<div>\n",
       "<style scoped>\n",
       "    .dataframe tbody tr th:only-of-type {\n",
       "        vertical-align: middle;\n",
       "    }\n",
       "\n",
       "    .dataframe tbody tr th {\n",
       "        vertical-align: top;\n",
       "    }\n",
       "\n",
       "    .dataframe thead th {\n",
       "        text-align: right;\n",
       "    }\n",
       "</style>\n",
       "<table border=\"1\" class=\"dataframe\">\n",
       "  <thead>\n",
       "    <tr style=\"text-align: right;\">\n",
       "      <th></th>\n",
       "      <th>rest_id</th>\n",
       "      <th>ratings</th>\n",
       "      <th>votes</th>\n",
       "    </tr>\n",
       "  </thead>\n",
       "  <tbody>\n",
       "    <tr>\n",
       "      <th>count</th>\n",
       "      <td>1.929000e+03</td>\n",
       "      <td>1929.000000</td>\n",
       "      <td>1929.000000</td>\n",
       "    </tr>\n",
       "    <tr>\n",
       "      <th>mean</th>\n",
       "      <td>1.715994e+07</td>\n",
       "      <td>3.565630</td>\n",
       "      <td>41.546916</td>\n",
       "    </tr>\n",
       "    <tr>\n",
       "      <th>std</th>\n",
       "      <td>1.886667e+05</td>\n",
       "      <td>0.439405</td>\n",
       "      <td>74.902606</td>\n",
       "    </tr>\n",
       "    <tr>\n",
       "      <th>min</th>\n",
       "      <td>1.695934e+07</td>\n",
       "      <td>2.000000</td>\n",
       "      <td>0.000000</td>\n",
       "    </tr>\n",
       "    <tr>\n",
       "      <th>25%</th>\n",
       "      <td>1.711369e+07</td>\n",
       "      <td>3.300000</td>\n",
       "      <td>6.000000</td>\n",
       "    </tr>\n",
       "    <tr>\n",
       "      <th>50%</th>\n",
       "      <td>1.711579e+07</td>\n",
       "      <td>3.600000</td>\n",
       "      <td>17.000000</td>\n",
       "    </tr>\n",
       "    <tr>\n",
       "      <th>75%</th>\n",
       "      <td>1.711706e+07</td>\n",
       "      <td>3.900000</td>\n",
       "      <td>45.000000</td>\n",
       "    </tr>\n",
       "    <tr>\n",
       "      <th>max</th>\n",
       "      <td>1.870511e+07</td>\n",
       "      <td>4.900000</td>\n",
       "      <td>1038.000000</td>\n",
       "    </tr>\n",
       "  </tbody>\n",
       "</table>\n",
       "</div>"
      ],
      "text/plain": [
       "            rest_id      ratings        votes\n",
       "count  1.929000e+03  1929.000000  1929.000000\n",
       "mean   1.715994e+07     3.565630    41.546916\n",
       "std    1.886667e+05     0.439405    74.902606\n",
       "min    1.695934e+07     2.000000     0.000000\n",
       "25%    1.711369e+07     3.300000     6.000000\n",
       "50%    1.711579e+07     3.600000    17.000000\n",
       "75%    1.711706e+07     3.900000    45.000000\n",
       "max    1.870511e+07     4.900000  1038.000000"
      ]
     },
     "execution_count": 11,
     "metadata": {},
     "output_type": "execute_result"
    }
   ],
   "source": [
    "df.describe()"
   ]
  },
  {
   "cell_type": "code",
   "execution_count": 15,
   "metadata": {},
   "outputs": [
    {
     "data": {
      "text/html": [
       "<div>\n",
       "<style scoped>\n",
       "    .dataframe tbody tr th:only-of-type {\n",
       "        vertical-align: middle;\n",
       "    }\n",
       "\n",
       "    .dataframe tbody tr th {\n",
       "        vertical-align: top;\n",
       "    }\n",
       "\n",
       "    .dataframe thead th {\n",
       "        text-align: right;\n",
       "    }\n",
       "</style>\n",
       "<table border=\"1\" class=\"dataframe\">\n",
       "  <thead>\n",
       "    <tr style=\"text-align: right;\">\n",
       "      <th></th>\n",
       "      <th>rest_id</th>\n",
       "      <th>rest_name</th>\n",
       "      <th>locality</th>\n",
       "      <th>cuisines</th>\n",
       "      <th>cost_for_two</th>\n",
       "      <th>ratings</th>\n",
       "      <th>votes</th>\n",
       "    </tr>\n",
       "  </thead>\n",
       "  <tbody>\n",
       "    <tr>\n",
       "      <th>1797</th>\n",
       "      <td>17112057</td>\n",
       "      <td>Station 43 Babes</td>\n",
       "      <td>Cheviot/Westwood</td>\n",
       "      <td>['Bar Food']</td>\n",
       "      <td>$</td>\n",
       "      <td>3.4</td>\n",
       "      <td>0</td>\n",
       "    </tr>\n",
       "    <tr>\n",
       "      <th>1826</th>\n",
       "      <td>17111922</td>\n",
       "      <td>Andy's Cafe</td>\n",
       "      <td>Carthage</td>\n",
       "      <td>['American', 'Burger', 'Bar Food']</td>\n",
       "      <td>$</td>\n",
       "      <td>3.2</td>\n",
       "      <td>0</td>\n",
       "    </tr>\n",
       "    <tr>\n",
       "      <th>1827</th>\n",
       "      <td>17115598</td>\n",
       "      <td>Bill's Open Door Cafe</td>\n",
       "      <td>Middletown</td>\n",
       "      <td>['Breakfast', 'Burger', 'Bar Food']</td>\n",
       "      <td>$</td>\n",
       "      <td>2.9</td>\n",
       "      <td>0</td>\n",
       "    </tr>\n",
       "    <tr>\n",
       "      <th>1828</th>\n",
       "      <td>17114573</td>\n",
       "      <td>Scotty's Catering</td>\n",
       "      <td>West Chester</td>\n",
       "      <td>['Sandwich']</td>\n",
       "      <td>$</td>\n",
       "      <td>3.2</td>\n",
       "      <td>0</td>\n",
       "    </tr>\n",
       "    <tr>\n",
       "      <th>1829</th>\n",
       "      <td>17112202</td>\n",
       "      <td>Bond Hill Cafe</td>\n",
       "      <td>Bond Hill</td>\n",
       "      <td>['American', 'Bar Food']</td>\n",
       "      <td>$</td>\n",
       "      <td>3.1</td>\n",
       "      <td>0</td>\n",
       "    </tr>\n",
       "    <tr>\n",
       "      <th>1830</th>\n",
       "      <td>17114144</td>\n",
       "      <td>Papa's Pub</td>\n",
       "      <td>Florence</td>\n",
       "      <td>['Italian']</td>\n",
       "      <td>$</td>\n",
       "      <td>3.1</td>\n",
       "      <td>0</td>\n",
       "    </tr>\n",
       "    <tr>\n",
       "      <th>1831</th>\n",
       "      <td>17115132</td>\n",
       "      <td>Weber's Cafe</td>\n",
       "      <td>Northside</td>\n",
       "      <td>['American']</td>\n",
       "      <td>$</td>\n",
       "      <td>3.2</td>\n",
       "      <td>0</td>\n",
       "    </tr>\n",
       "    <tr>\n",
       "      <th>1832</th>\n",
       "      <td>17115852</td>\n",
       "      <td>Main Street Pizza</td>\n",
       "      <td>Williamsburg</td>\n",
       "      <td>['Pizza']</td>\n",
       "      <td>$</td>\n",
       "      <td>3.3</td>\n",
       "      <td>0</td>\n",
       "    </tr>\n",
       "    <tr>\n",
       "      <th>1833</th>\n",
       "      <td>17116503</td>\n",
       "      <td>Friend's Backyard Grill</td>\n",
       "      <td>Clarksville</td>\n",
       "      <td>['American']</td>\n",
       "      <td>$</td>\n",
       "      <td>3.1</td>\n",
       "      <td>0</td>\n",
       "    </tr>\n",
       "    <tr>\n",
       "      <th>1835</th>\n",
       "      <td>17113248</td>\n",
       "      <td>Happy Hollow Inn</td>\n",
       "      <td>Norwood</td>\n",
       "      <td>['Pub Food']</td>\n",
       "      <td>$</td>\n",
       "      <td>3.2</td>\n",
       "      <td>0</td>\n",
       "    </tr>\n",
       "    <tr>\n",
       "      <th>1836</th>\n",
       "      <td>17117546</td>\n",
       "      <td>True West Coffee</td>\n",
       "      <td>Hamilton</td>\n",
       "      <td>['Breakfast', 'Coffee and Tea', 'Sandwich']</td>\n",
       "      <td>$</td>\n",
       "      <td>3.1</td>\n",
       "      <td>0</td>\n",
       "    </tr>\n",
       "    <tr>\n",
       "      <th>1839</th>\n",
       "      <td>17112458</td>\n",
       "      <td>Chef's Kitchen Cakery</td>\n",
       "      <td>Deer Park/Madeira</td>\n",
       "      <td>['Desserts']</td>\n",
       "      <td>$</td>\n",
       "      <td>3.5</td>\n",
       "      <td>0</td>\n",
       "    </tr>\n",
       "    <tr>\n",
       "      <th>1840</th>\n",
       "      <td>17113414</td>\n",
       "      <td>Jimmie's Tap Room</td>\n",
       "      <td>Norwood</td>\n",
       "      <td>['Bar Food']</td>\n",
       "      <td>$</td>\n",
       "      <td>3.2</td>\n",
       "      <td>0</td>\n",
       "    </tr>\n",
       "    <tr>\n",
       "      <th>1841</th>\n",
       "      <td>17114070</td>\n",
       "      <td>P Dub's Cafe</td>\n",
       "      <td>Hamilton</td>\n",
       "      <td>['American']</td>\n",
       "      <td>$</td>\n",
       "      <td>3.0</td>\n",
       "      <td>0</td>\n",
       "    </tr>\n",
       "    <tr>\n",
       "      <th>1842</th>\n",
       "      <td>17115520</td>\n",
       "      <td>Harold's Quick Shop Carry Out</td>\n",
       "      <td>Georgetown</td>\n",
       "      <td>['Sandwich']</td>\n",
       "      <td>$</td>\n",
       "      <td>3.2</td>\n",
       "      <td>0</td>\n",
       "    </tr>\n",
       "    <tr>\n",
       "      <th>1843</th>\n",
       "      <td>17115694</td>\n",
       "      <td>Verity Discount Smokes &amp; Crryt</td>\n",
       "      <td>Middletown</td>\n",
       "      <td>['Desserts']</td>\n",
       "      <td>$</td>\n",
       "      <td>3.0</td>\n",
       "      <td>0</td>\n",
       "    </tr>\n",
       "    <tr>\n",
       "      <th>1846</th>\n",
       "      <td>17115543</td>\n",
       "      <td>B &amp; A Sports Bar</td>\n",
       "      <td>Harrison</td>\n",
       "      <td>['Bar Food']</td>\n",
       "      <td>$</td>\n",
       "      <td>2.7</td>\n",
       "      <td>0</td>\n",
       "    </tr>\n",
       "    <tr>\n",
       "      <th>1847</th>\n",
       "      <td>17116424</td>\n",
       "      <td>Take A Break</td>\n",
       "      <td>West Chester</td>\n",
       "      <td>['Coffee and Tea', 'Desserts', 'Beverages']</td>\n",
       "      <td>$</td>\n",
       "      <td>3.3</td>\n",
       "      <td>0</td>\n",
       "    </tr>\n",
       "    <tr>\n",
       "      <th>1848</th>\n",
       "      <td>17116801</td>\n",
       "      <td>Wiggy Dip Ice Cream</td>\n",
       "      <td>Downtown</td>\n",
       "      <td>['Desserts', 'Ice Cream']</td>\n",
       "      <td>$</td>\n",
       "      <td>3.2</td>\n",
       "      <td>0</td>\n",
       "    </tr>\n",
       "    <tr>\n",
       "      <th>1849</th>\n",
       "      <td>17117111</td>\n",
       "      <td>Hot Head Burritos</td>\n",
       "      <td>Hamilton</td>\n",
       "      <td>['Fast Food', 'Tex-Mex']</td>\n",
       "      <td>$</td>\n",
       "      <td>3.0</td>\n",
       "      <td>0</td>\n",
       "    </tr>\n",
       "    <tr>\n",
       "      <th>1853</th>\n",
       "      <td>17112758</td>\n",
       "      <td>Dixie Club Cafe</td>\n",
       "      <td>Erlanger</td>\n",
       "      <td>['Bar Food']</td>\n",
       "      <td>$</td>\n",
       "      <td>3.2</td>\n",
       "      <td>0</td>\n",
       "    </tr>\n",
       "    <tr>\n",
       "      <th>1855</th>\n",
       "      <td>17112899</td>\n",
       "      <td>Erwin's Choice Meats &amp; Cater</td>\n",
       "      <td>Covington</td>\n",
       "      <td>['Sandwich']</td>\n",
       "      <td>$</td>\n",
       "      <td>3.1</td>\n",
       "      <td>0</td>\n",
       "    </tr>\n",
       "    <tr>\n",
       "      <th>1856</th>\n",
       "      <td>17113086</td>\n",
       "      <td>Go Play Cafe</td>\n",
       "      <td>Mason</td>\n",
       "      <td>['American']</td>\n",
       "      <td>$</td>\n",
       "      <td>3.1</td>\n",
       "      <td>0</td>\n",
       "    </tr>\n",
       "    <tr>\n",
       "      <th>1917</th>\n",
       "      <td>17431365</td>\n",
       "      <td>Subway</td>\n",
       "      <td>Crittenden</td>\n",
       "      <td>['Fast Food']</td>\n",
       "      <td>$</td>\n",
       "      <td>3.0</td>\n",
       "      <td>0</td>\n",
       "    </tr>\n",
       "    <tr>\n",
       "      <th>1924</th>\n",
       "      <td>17412872</td>\n",
       "      <td>White Castle</td>\n",
       "      <td>Aurora</td>\n",
       "      <td>['Breakfast', 'Burger', 'Fast Food']</td>\n",
       "      <td>$</td>\n",
       "      <td>3.2</td>\n",
       "      <td>0</td>\n",
       "    </tr>\n",
       "    <tr>\n",
       "      <th>1926</th>\n",
       "      <td>17414958</td>\n",
       "      <td>Steak 'n Shake</td>\n",
       "      <td>Lawrenceburg</td>\n",
       "      <td>['Fast Food']</td>\n",
       "      <td>$</td>\n",
       "      <td>3.2</td>\n",
       "      <td>0</td>\n",
       "    </tr>\n",
       "    <tr>\n",
       "      <th>1927</th>\n",
       "      <td>17414937</td>\n",
       "      <td>KFC</td>\n",
       "      <td>Lawrenceburg</td>\n",
       "      <td>['Fast Food']</td>\n",
       "      <td>$</td>\n",
       "      <td>3.2</td>\n",
       "      <td>0</td>\n",
       "    </tr>\n",
       "  </tbody>\n",
       "</table>\n",
       "</div>"
      ],
      "text/plain": [
       "       rest_id                       rest_name           locality  \\\n",
       "1797  17112057                Station 43 Babes   Cheviot/Westwood   \n",
       "1826  17111922                     Andy's Cafe           Carthage   \n",
       "1827  17115598           Bill's Open Door Cafe         Middletown   \n",
       "1828  17114573               Scotty's Catering       West Chester   \n",
       "1829  17112202                  Bond Hill Cafe          Bond Hill   \n",
       "1830  17114144                      Papa's Pub           Florence   \n",
       "1831  17115132                    Weber's Cafe          Northside   \n",
       "1832  17115852               Main Street Pizza       Williamsburg   \n",
       "1833  17116503         Friend's Backyard Grill        Clarksville   \n",
       "1835  17113248                Happy Hollow Inn            Norwood   \n",
       "1836  17117546                True West Coffee           Hamilton   \n",
       "1839  17112458           Chef's Kitchen Cakery  Deer Park/Madeira   \n",
       "1840  17113414               Jimmie's Tap Room            Norwood   \n",
       "1841  17114070                    P Dub's Cafe           Hamilton   \n",
       "1842  17115520   Harold's Quick Shop Carry Out         Georgetown   \n",
       "1843  17115694  Verity Discount Smokes & Crryt         Middletown   \n",
       "1846  17115543                B & A Sports Bar           Harrison   \n",
       "1847  17116424                    Take A Break       West Chester   \n",
       "1848  17116801             Wiggy Dip Ice Cream           Downtown   \n",
       "1849  17117111               Hot Head Burritos           Hamilton   \n",
       "1853  17112758                 Dixie Club Cafe           Erlanger   \n",
       "1855  17112899    Erwin's Choice Meats & Cater          Covington   \n",
       "1856  17113086                    Go Play Cafe              Mason   \n",
       "1917  17431365                          Subway         Crittenden   \n",
       "1924  17412872                    White Castle             Aurora   \n",
       "1926  17414958                  Steak 'n Shake       Lawrenceburg   \n",
       "1927  17414937                             KFC       Lawrenceburg   \n",
       "\n",
       "                                         cuisines cost_for_two  ratings  votes  \n",
       "1797                                 ['Bar Food']            $      3.4      0  \n",
       "1826           ['American', 'Burger', 'Bar Food']            $      3.2      0  \n",
       "1827          ['Breakfast', 'Burger', 'Bar Food']            $      2.9      0  \n",
       "1828                                 ['Sandwich']            $      3.2      0  \n",
       "1829                     ['American', 'Bar Food']            $      3.1      0  \n",
       "1830                                  ['Italian']            $      3.1      0  \n",
       "1831                                 ['American']            $      3.2      0  \n",
       "1832                                    ['Pizza']            $      3.3      0  \n",
       "1833                                 ['American']            $      3.1      0  \n",
       "1835                                 ['Pub Food']            $      3.2      0  \n",
       "1836  ['Breakfast', 'Coffee and Tea', 'Sandwich']            $      3.1      0  \n",
       "1839                                 ['Desserts']            $      3.5      0  \n",
       "1840                                 ['Bar Food']            $      3.2      0  \n",
       "1841                                 ['American']            $      3.0      0  \n",
       "1842                                 ['Sandwich']            $      3.2      0  \n",
       "1843                                 ['Desserts']            $      3.0      0  \n",
       "1846                                 ['Bar Food']            $      2.7      0  \n",
       "1847  ['Coffee and Tea', 'Desserts', 'Beverages']            $      3.3      0  \n",
       "1848                    ['Desserts', 'Ice Cream']            $      3.2      0  \n",
       "1849                     ['Fast Food', 'Tex-Mex']            $      3.0      0  \n",
       "1853                                 ['Bar Food']            $      3.2      0  \n",
       "1855                                 ['Sandwich']            $      3.1      0  \n",
       "1856                                 ['American']            $      3.1      0  \n",
       "1917                                ['Fast Food']            $      3.0      0  \n",
       "1924         ['Breakfast', 'Burger', 'Fast Food']            $      3.2      0  \n",
       "1926                                ['Fast Food']            $      3.2      0  \n",
       "1927                                ['Fast Food']            $      3.2      0  "
      ]
     },
     "execution_count": 15,
     "metadata": {},
     "output_type": "execute_result"
    }
   ],
   "source": [
    "df[df['votes']==0]"
   ]
  },
  {
   "cell_type": "code",
   "execution_count": 17,
   "metadata": {},
   "outputs": [
    {
     "data": {
      "text/plain": [
       "(27, 7)"
      ]
     },
     "execution_count": 17,
     "metadata": {},
     "output_type": "execute_result"
    }
   ],
   "source": [
    "df[df['votes']==0].shape"
   ]
  },
  {
   "cell_type": "markdown",
   "metadata": {},
   "source": [
    "There are 27 restaurants which have 0 voters and a non-zero ratings. As we don't have the info about number of voters we would drop these rows for data sanity."
   ]
  },
  {
   "cell_type": "code",
   "execution_count": 22,
   "metadata": {},
   "outputs": [],
   "source": [
    "df.drop(df[df['votes']==0].index , inplace=True)"
   ]
  },
  {
   "cell_type": "code",
   "execution_count": 54,
   "metadata": {},
   "outputs": [
    {
     "data": {
      "text/plain": [
       "array([4.7, 4.6, 4.5, 4.9, 4.2, 3.9, 4.3, 4.4, 4.1, 4.8, 4. , 3.8, 3.4,\n",
       "       3.3, 3.5, 3.7, 3.6, 2.2, 3.2, 2.4, 3.1, 3. , 2.5, 2.6, 2.3, 2.1,\n",
       "       2.7, 2.9, 2.8, 2. ])"
      ]
     },
     "execution_count": 54,
     "metadata": {},
     "output_type": "execute_result"
    }
   ],
   "source": [
    "df['ratings'].unique()"
   ]
  },
  {
   "cell_type": "code",
   "execution_count": 25,
   "metadata": {},
   "outputs": [
    {
     "data": {
      "text/html": [
       "<div>\n",
       "<style scoped>\n",
       "    .dataframe tbody tr th:only-of-type {\n",
       "        vertical-align: middle;\n",
       "    }\n",
       "\n",
       "    .dataframe tbody tr th {\n",
       "        vertical-align: top;\n",
       "    }\n",
       "\n",
       "    .dataframe thead th {\n",
       "        text-align: right;\n",
       "    }\n",
       "</style>\n",
       "<table border=\"1\" class=\"dataframe\">\n",
       "  <thead>\n",
       "    <tr style=\"text-align: right;\">\n",
       "      <th></th>\n",
       "      <th>rest_name</th>\n",
       "      <th>locality</th>\n",
       "      <th>cuisines</th>\n",
       "      <th>cost_for_two</th>\n",
       "      <th>ratings</th>\n",
       "      <th>votes</th>\n",
       "    </tr>\n",
       "    <tr>\n",
       "      <th>rest_id</th>\n",
       "      <th></th>\n",
       "      <th></th>\n",
       "      <th></th>\n",
       "      <th></th>\n",
       "      <th></th>\n",
       "      <th></th>\n",
       "    </tr>\n",
       "  </thead>\n",
       "  <tbody>\n",
       "    <tr>\n",
       "      <th>17114993</th>\n",
       "      <td>Terry's Turf Club</td>\n",
       "      <td>Hyde Park/Mount Lookout</td>\n",
       "      <td>['Burger', 'Bar Food', 'Sandwich']</td>\n",
       "      <td>$$</td>\n",
       "      <td>4.7</td>\n",
       "      <td>1038</td>\n",
       "    </tr>\n",
       "    <tr>\n",
       "      <th>17113965</th>\n",
       "      <td>Nada</td>\n",
       "      <td>Downtown</td>\n",
       "      <td>['Breakfast', 'Mexican']</td>\n",
       "      <td>$$$</td>\n",
       "      <td>4.6</td>\n",
       "      <td>933</td>\n",
       "    </tr>\n",
       "    <tr>\n",
       "      <th>17115298</th>\n",
       "      <td>Zip's Cafe</td>\n",
       "      <td>Hyde Park/Mount Lookout</td>\n",
       "      <td>['Burger', 'Bar Food', 'Sandwich']</td>\n",
       "      <td>$</td>\n",
       "      <td>4.7</td>\n",
       "      <td>694</td>\n",
       "    </tr>\n",
       "    <tr>\n",
       "      <th>17112031</th>\n",
       "      <td>Arthur's</td>\n",
       "      <td>Hyde Park/Mount Lookout</td>\n",
       "      <td>['Burger', 'Bar Food', 'Sandwich']</td>\n",
       "      <td>$$</td>\n",
       "      <td>4.7</td>\n",
       "      <td>632</td>\n",
       "    </tr>\n",
       "    <tr>\n",
       "      <th>17116251</th>\n",
       "      <td>Senate</td>\n",
       "      <td>Over-the-Rhine/Mount Auburn</td>\n",
       "      <td>['Bar Food']</td>\n",
       "      <td>$$</td>\n",
       "      <td>4.6</td>\n",
       "      <td>596</td>\n",
       "    </tr>\n",
       "  </tbody>\n",
       "</table>\n",
       "</div>"
      ],
      "text/plain": [
       "                  rest_name                     locality  \\\n",
       "rest_id                                                    \n",
       "17114993  Terry's Turf Club      Hyde Park/Mount Lookout   \n",
       "17113965               Nada                     Downtown   \n",
       "17115298         Zip's Cafe      Hyde Park/Mount Lookout   \n",
       "17112031           Arthur's      Hyde Park/Mount Lookout   \n",
       "17116251             Senate  Over-the-Rhine/Mount Auburn   \n",
       "\n",
       "                                    cuisines cost_for_two  ratings  votes  \n",
       "rest_id                                                                    \n",
       "17114993  ['Burger', 'Bar Food', 'Sandwich']           $$      4.7   1038  \n",
       "17113965            ['Breakfast', 'Mexican']          $$$      4.6    933  \n",
       "17115298  ['Burger', 'Bar Food', 'Sandwich']            $      4.7    694  \n",
       "17112031  ['Burger', 'Bar Food', 'Sandwich']           $$      4.7    632  \n",
       "17116251                        ['Bar Food']           $$      4.6    596  "
      ]
     },
     "execution_count": 25,
     "metadata": {},
     "output_type": "execute_result"
    }
   ],
   "source": [
    "df.head()"
   ]
  },
  {
   "cell_type": "code",
   "execution_count": 56,
   "metadata": {},
   "outputs": [
    {
     "data": {
      "text/plain": [
       "(1902, 6)"
      ]
     },
     "execution_count": 56,
     "metadata": {},
     "output_type": "execute_result"
    }
   ],
   "source": [
    "df.shape"
   ]
  },
  {
   "cell_type": "markdown",
   "metadata": {},
   "source": [
    "We will be working with 1902 rows and 6 columns for this dataset."
   ]
  },
  {
   "cell_type": "markdown",
   "metadata": {},
   "source": [
    "Let's look at the number of restaurants in each locality"
   ]
  },
  {
   "cell_type": "code",
   "execution_count": 42,
   "metadata": {},
   "outputs": [
    {
     "data": {
      "text/plain": [
       "array(['Hyde Park/Mount Lookout', 'Downtown',\n",
       "       'Over-the-Rhine/Mount Auburn', 'Clifton/Avondale',\n",
       "       'East End/Mount Washington', 'Campbell County', 'Montgomery',\n",
       "       'Northside', 'Springdale', 'Blue Ash', 'Covington',\n",
       "       'Price Hill/Fairmount', 'Mariemont', 'Norwood', 'West Chester',\n",
       "       'Deer Park/Madeira', 'Madisonville', 'Cold Spring/Alexandria',\n",
       "       'Mason', 'Symmes', 'Loveland', 'Fairfax',\n",
       "       'Walnut Hills/Mount Adams', 'Oakley/Pleasant Ridge',\n",
       "       'Crescent Springs/Fort Wright', 'Cheviot/Westwood',\n",
       "       'Anderson Township', 'Milford',\n",
       "       'Wyoming/Arlington Heights/Reading', 'Florence', 'Sharonville',\n",
       "       'Independence', 'Colerain Township', 'Fairfield',\n",
       "       'College Hill/Mt Healthy', 'Monfort Heights/White Oak',\n",
       "       'Plaineville', 'Lebanon', 'Golf Manor', 'Withamsville', 'Landen',\n",
       "       'St Bernard/Elmwood Place', 'Erlanger', 'Oxford',\n",
       "       'Crestview Hills', 'Newtown', 'Cleves', 'Delhi', 'Union Township',\n",
       "       'Batavia', 'Hamilton', 'North Bend', 'Harrison', 'New Richmond',\n",
       "       'Maineville', 'Trenton', 'Middletown', 'Burlington', 'Amelia',\n",
       "       'Williamsburg', 'Mount Orab', 'Walton', 'Forest Park',\n",
       "       'Georgetown', 'Hebron', 'Carthage', 'Felicity', 'South Lebanon',\n",
       "       'Blanchester', 'Oregonia', 'Bond Hill', 'Clarksville', 'Camden',\n",
       "       'Okeana', 'Goshen', 'Greenhills', 'Morrow', 'California',\n",
       "       'Lynchburg', 'Fayetteville', 'Bethel', 'Hamersville', 'Greendale',\n",
       "       'Aurora', 'Lawrenceburg', 'West Harrison', 'Rising Sun',\n",
       "       'Crittenden', 'Patriot', 'Guilford', 'Bright'], dtype=object)"
      ]
     },
     "execution_count": 42,
     "metadata": {},
     "output_type": "execute_result"
    }
   ],
   "source": [
    "df['locality'].unique()"
   ]
  },
  {
   "cell_type": "code",
   "execution_count": 43,
   "metadata": {},
   "outputs": [
    {
     "data": {
      "text/plain": [
       "91"
      ]
     },
     "execution_count": 43,
     "metadata": {},
     "output_type": "execute_result"
    }
   ],
   "source": [
    "df['locality'].nunique()"
   ]
  },
  {
   "cell_type": "code",
   "execution_count": 49,
   "metadata": {},
   "outputs": [
    {
     "data": {
      "text/plain": [
       "locality\n",
       "Downtown                        132\n",
       "West Chester                     98\n",
       "Clifton/Avondale                 80\n",
       "Cheviot/Westwood                 78\n",
       "Campbell County                  76\n",
       "Florence                         68\n",
       "Over-the-Rhine/Mount Auburn      68\n",
       "Hyde Park/Mount Lookout          65\n",
       "Covington                        64\n",
       "Deer Park/Madeira                58\n",
       "Mason                            57\n",
       "Hamilton                         48\n",
       "Fairfield                        39\n",
       "Middletown                       37\n",
       "Norwood                          37\n",
       "Blue Ash                         36\n",
       "Colerain Township                35\n",
       "Springdale                       35\n",
       "Oakley/Pleasant Ridge            33\n",
       "Milford                          32\n",
       "College Hill/Mt Healthy          32\n",
       "Symmes                           31\n",
       "Walnut Hills/Mount Adams         31\n",
       "Lawrenceburg                     31\n",
       "Crescent Springs/Fort Wright     31\n",
       "Sharonville                      31\n",
       "Oxford                           30\n",
       "Anderson Township                30\n",
       "Montgomery                       28\n",
       "Loveland                         28\n",
       "                               ... \n",
       "Greendale                         5\n",
       "Fairfax                           5\n",
       "Mount Orab                        5\n",
       "Crestview Hills                   5\n",
       "Camden                            5\n",
       "Trenton                           5\n",
       "Georgetown                        4\n",
       "Crittenden                        4\n",
       "Batavia                           3\n",
       "Carthage                          3\n",
       "Felicity                          3\n",
       "Morrow                            3\n",
       "Golf Manor                        3\n",
       "Goshen                            2\n",
       "Okeana                            2\n",
       "Williamsburg                      2\n",
       "West Harrison                     2\n",
       "Guilford                          2\n",
       "Fayetteville                      2\n",
       "Oregonia                          1\n",
       "California                        1\n",
       "Patriot                           1\n",
       "Bright                            1\n",
       "Bond Hill                         1\n",
       "Hamersville                       1\n",
       "Greenhills                        1\n",
       "Bethel                            1\n",
       "Lynchburg                         1\n",
       "Clarksville                       1\n",
       "South Lebanon                     1\n",
       "Name: rest_name, Length: 91, dtype: int64"
      ]
     },
     "execution_count": 49,
     "metadata": {},
     "output_type": "execute_result"
    }
   ],
   "source": [
    "df.groupby('locality')['rest_name'].count().sort_values(ascending = False)"
   ]
  },
  {
   "cell_type": "code",
   "execution_count": 52,
   "metadata": {},
   "outputs": [
    {
     "data": {
      "text/plain": [
       "45"
      ]
     },
     "execution_count": 52,
     "metadata": {},
     "output_type": "execute_result"
    }
   ],
   "source": [
    "np.sum(df.groupby('locality')['rest_name'].count() >= 10)"
   ]
  },
  {
   "cell_type": "markdown",
   "metadata": {},
   "source": [
    "We observed that there a total of 91 localities with 45 localities having more than 10 restaurants"
   ]
  },
  {
   "cell_type": "markdown",
   "metadata": {},
   "source": [
    "Let's analyze cost for two data"
   ]
  },
  {
   "cell_type": "code",
   "execution_count": 66,
   "metadata": {},
   "outputs": [
    {
     "data": {
      "text/plain": [
       "[$$, $$$, $, $$$$]\n",
       "Categories (4, object): [$$, $$$, $, $$$$]"
      ]
     },
     "execution_count": 66,
     "metadata": {},
     "output_type": "execute_result"
    }
   ],
   "source": [
    "df['cost_for_two'].unique()"
   ]
  },
  {
   "cell_type": "code",
   "execution_count": 69,
   "metadata": {},
   "outputs": [],
   "source": [
    "df['cost_for_two'] = df['cost_for_two'].astype(str)"
   ]
  },
  {
   "cell_type": "markdown",
   "metadata": {},
   "source": [
    "Let's change the categories to words for our convinience.\n",
    "\n",
    "* \\\\$           - Inexpensive\n",
    "* \\\\$\\\\$        - Moderately_priced\n",
    "* \\\\$\\\\$\\\\$     - Pricey\n",
    "* \\\\$\\\\$\\\\$\\\\$  - Priciest"
   ]
  },
  {
   "cell_type": "code",
   "execution_count": 71,
   "metadata": {},
   "outputs": [],
   "source": [
    "df['cost_for_two']=df['cost_for_two'].map({'$':'Inexpensive','$$':'Moderately_priced','$$$':'Pricey','$$$$':'Priciest'})"
   ]
  },
  {
   "cell_type": "code",
   "execution_count": 73,
   "metadata": {},
   "outputs": [
    {
     "data": {
      "text/plain": [
       "<matplotlib.axes._subplots.AxesSubplot at 0x1583eb07240>"
      ]
     },
     "execution_count": 73,
     "metadata": {},
     "output_type": "execute_result"
    },
    {
     "data": {
      "image/png": "[encoded data removed]",
      "text/plain": [
       "<Figure size 432x288 with 1 Axes>"
      ]
     },
     "metadata": {
      "needs_background": "light"
     },
     "output_type": "display_data"
    }
   ],
   "source": [
    "sns.countplot(x='cost_for_two',data=df,palette='colorblind',order=('Inexpensive','Moderately_priced','Pricey','Priciest'))"
   ]
  },
  {
   "cell_type": "code",
   "execution_count": 74,
   "metadata": {},
   "outputs": [],
   "source": [
    "from wordcloud import WordCloud"
   ]
  },
  {
   "cell_type": "code",
   "execution_count": 75,
   "metadata": {},
   "outputs": [
    {
     "data": {
      "text/html": [
       "<div>\n",
       "<style scoped>\n",
       "    .dataframe tbody tr th:only-of-type {\n",
       "        vertical-align: middle;\n",
       "    }\n",
       "\n",
       "    .dataframe tbody tr th {\n",
       "        vertical-align: top;\n",
       "    }\n",
       "\n",
       "    .dataframe thead th {\n",
       "        text-align: right;\n",
       "    }\n",
       "</style>\n",
       "<table border=\"1\" class=\"dataframe\">\n",
       "  <thead>\n",
       "    <tr style=\"text-align: right;\">\n",
       "      <th></th>\n",
       "      <th>rest_name</th>\n",
       "      <th>locality</th>\n",
       "      <th>cuisines</th>\n",
       "      <th>cost_for_two</th>\n",
       "      <th>ratings</th>\n",
       "      <th>votes</th>\n",
       "    </tr>\n",
       "    <tr>\n",
       "      <th>rest_id</th>\n",
       "      <th></th>\n",
       "      <th></th>\n",
       "      <th></th>\n",
       "      <th></th>\n",
       "      <th></th>\n",
       "      <th></th>\n",
       "    </tr>\n",
       "  </thead>\n",
       "  <tbody>\n",
       "    <tr>\n",
       "      <th>17114993</th>\n",
       "      <td>Terry's Turf Club</td>\n",
       "      <td>Hyde Park/Mount Lookout</td>\n",
       "      <td>['Burger', 'Bar Food', 'Sandwich']</td>\n",
       "      <td>Moderately_priced</td>\n",
       "      <td>4.7</td>\n",
       "      <td>1038</td>\n",
       "    </tr>\n",
       "    <tr>\n",
       "      <th>17113965</th>\n",
       "      <td>Nada</td>\n",
       "      <td>Downtown</td>\n",
       "      <td>['Breakfast', 'Mexican']</td>\n",
       "      <td>Pricey</td>\n",
       "      <td>4.6</td>\n",
       "      <td>933</td>\n",
       "    </tr>\n",
       "    <tr>\n",
       "      <th>17115298</th>\n",
       "      <td>Zip's Cafe</td>\n",
       "      <td>Hyde Park/Mount Lookout</td>\n",
       "      <td>['Burger', 'Bar Food', 'Sandwich']</td>\n",
       "      <td>Inexpensive</td>\n",
       "      <td>4.7</td>\n",
       "      <td>694</td>\n",
       "    </tr>\n",
       "    <tr>\n",
       "      <th>17112031</th>\n",
       "      <td>Arthur's</td>\n",
       "      <td>Hyde Park/Mount Lookout</td>\n",
       "      <td>['Burger', 'Bar Food', 'Sandwich']</td>\n",
       "      <td>Moderately_priced</td>\n",
       "      <td>4.7</td>\n",
       "      <td>632</td>\n",
       "    </tr>\n",
       "    <tr>\n",
       "      <th>17116251</th>\n",
       "      <td>Senate</td>\n",
       "      <td>Over-the-Rhine/Mount Auburn</td>\n",
       "      <td>['Bar Food']</td>\n",
       "      <td>Moderately_priced</td>\n",
       "      <td>4.6</td>\n",
       "      <td>596</td>\n",
       "    </tr>\n",
       "  </tbody>\n",
       "</table>\n",
       "</div>"
      ],
      "text/plain": [
       "                  rest_name                     locality  \\\n",
       "rest_id                                                    \n",
       "17114993  Terry's Turf Club      Hyde Park/Mount Lookout   \n",
       "17113965               Nada                     Downtown   \n",
       "17115298         Zip's Cafe      Hyde Park/Mount Lookout   \n",
       "17112031           Arthur's      Hyde Park/Mount Lookout   \n",
       "17116251             Senate  Over-the-Rhine/Mount Auburn   \n",
       "\n",
       "                                    cuisines       cost_for_two  ratings  \\\n",
       "rest_id                                                                    \n",
       "17114993  ['Burger', 'Bar Food', 'Sandwich']  Moderately_priced      4.7   \n",
       "17113965            ['Breakfast', 'Mexican']             Pricey      4.6   \n",
       "17115298  ['Burger', 'Bar Food', 'Sandwich']        Inexpensive      4.7   \n",
       "17112031  ['Burger', 'Bar Food', 'Sandwich']  Moderately_priced      4.7   \n",
       "17116251                        ['Bar Food']  Moderately_priced      4.6   \n",
       "\n",
       "          votes  \n",
       "rest_id          \n",
       "17114993   1038  \n",
       "17113965    933  \n",
       "17115298    694  \n",
       "17112031    632  \n",
       "17116251    596  "
      ]
     },
     "execution_count": 75,
     "metadata": {},
     "output_type": "execute_result"
    }
   ],
   "source": [
    "df.head()"
   ]
  },
  {
   "cell_type": "code",
   "execution_count": 88,
   "metadata": {},
   "outputs": [],
   "source": [
    "cuisinelist = ' '.join(x for x in df['cuisines'])"
   ]
  },
  {
   "cell_type": "code",
   "execution_count": 91,
   "metadata": {},
   "outputs": [],
   "source": [
    "cuisinelist = cuisinelist.replace('[','').replace(']','').replace('\\'','').replace(',',' ')"
   ]
  },
  {
   "cell_type": "code",
   "execution_count": 92,
   "metadata": {},
   "outputs": [
    {
     "data": {
      "text/plain": [
       "'Burger  Bar Food  Sandwich Breakfast  Mexican Burger  Bar Food  Sandwich Burger  Bar Food  Sandwich Bar Food Indian  Pakistani  Vegetarian BBQ  Southern Burger  Bar Food Mexican  California Italian  Pizza German BBQ  Bar Food Sandwich  Vegetarian Belgian  European  International Sushi  Thai  Vegetarian Southern Steak Desserts  Italian  Pizza French  Italian  Tapas Pizza Seafood  Cajun Breakfast  Italian  Pizza Sandwich  Vietnamese Desserts  Ice Cream Sandwich Burger  Bar Food American  French  Italian Indian  Pakistani Burger  Sandwich Asian  Chinese Burger  Bar Food  Sandwich Seafood  Steak Pizza  Sandwich Burger  Bar Food  Sandwich Breakfast  International Cafe Burger  Bar Food  Sandwich Thai  Vietnamese American  Breakfast  Diner Italian  Pizza  Sandwich Mexican Indian Burger  Italian  Bar Food Mediterranean  Vegetarian  Lebanese Indian Mexican Italian Mexican Seafood  Southern  Cajun  Sushi  Thai  Japanese French American  Diner  Sandwich Italian Breakfast  Sandwich  Chili International  Italian  Vegetarian American  Coffee and Tea Burger  Sandwich  Healthy Food Japanese  Sushi European  Greek  Healthy Food Chinese Burger  Healthy Food Burger  Bar Food  Seafood Korean Mexican Thai Italian  Pizza Chili  Diner Mexican  Tex-Mex Bar Food  Burger Southwestern  Tex-Mex Latin American  Mexican Asian  Sushi  Thai Mediterranean  Middle Eastern  Turkish Burger  Bar Food  Chili  Cafe Breakfast  European American  Steak Desserts  Ice Cream Sushi  Thai  Vegetarian Seafood  Steak  Sushi Breakfast  Diner  Sandwich Seafood  Steak Italian  Pizza  Sandwich Indian  Pakistani American Asian  Thai  Vietnamese Seafood  Steak Greek  Mediterranean  Middle Eastern Indian Italian  Pizza  Sandwich Breakfast  Burger Italian Diner  Sandwich  Chili Chili Burger  Pizza  Bar Food Greek  Mediterranean  Middle Eastern American  International Sandwich  Bagels Mediterranean  Tapas Asian  Japanese  Sushi Asian  Chinese  Tea Italian  Pizza Seafood Seafood  American  Bar Food Mediterranean  Middle Eastern Breakfast  Diner  Sandwich American  Southern  Cajun American  Breakfast American Mediterranean Italian  Pizza  Bar Food Korean  Seafood  Sushi Mexican  Southwestern  Tex-Mex Asian  Chinese Mexican  Steak  Tex-Mex Seafood  Steak Burger  Pizza  Bar Food Sandwich Pizza Japanese  Sushi Italian  Pizza Italian  Pizza  Sandwich Burger  Sandwich  Greek Chinese Japanese  Steak  Sushi American  Burger Indian Bar Food  Seafood American  Seafood  Steak Desserts  Pizza  Bar Food Breakfast  Coffee and Tea  Diner Italian  Pizza  Healthy Food American  Pizza  Bar Food American  Seafood  Steak Italian American  Burger Breakfast  German Asian  Japanese  Sushi American  Pizza  Healthy Food Sushi  Thai Italian  Pizza Coffee and Tea  Desserts  Italian Burger  Bar Food  Sandwich Burger  Sandwich  Beverages Mediterranean  Seafood  Tapas Thai International  Sandwich Indian  Pakistani Indian  Pakistani French Coffee and Tea  Sandwich Pizza American  Southwestern Seafood  Southern  Cajun Burger  Sandwich  Vegetarian Japanese  Steak  Sushi Japanese  Sushi  Thai Pizza  Sandwich Burger  Bar Food  Healthy Food Bar Food  Sandwich  Seafood Mexican  Bar Food Bar Food  Sandwich  Steak Asian  Sushi  Thai Indian Coffee and Tea  Donuts Greek  Mediterranean  Healthy Food Breakfast  Burger  Bar Food Mexican Mexican  Southwestern  Cajun Indian  Vegetarian Indian  Vegetarian BBQ  Southern Sushi  Thai American  Southern Sandwich Asian  Vietnamese American  Breakfast  Sandwich Sushi Chinese  Dim Sum American  Bar Food European  Healthy Food American  Bar Food  Southern Burger  Bar Food  Sandwich  Greek  Mediterranean  Turkish Coffee and Tea  Diner  Sandwich Seafood  Steak Steak Burger  Bar Food  Sandwich BBQ  Southern Burger  Bar Food  Sandwich Italian  Pizza  Sandwich Asian  Chinese  Sushi Pizza  Sandwich Italian  Pizza American American Asian  Chinese Bar Food  Sandwich Asian  Sushi  Thai Burger  Fast Food Pizza  Bar Food  Sandwich Mexican Mexican  Tex-Mex Breakfast  Sandwich  Chili American  Cafe  Desserts Asian  Korean  Sushi Burger  Bar Food  Sandwich Asian  Japanese  Sushi  Seafood  Steak Italian  Sandwich  Healthy Food International Italian American  Steak  Sushi British  Bar Food Pizza  Seafood  Steak Burger  Bar Food  Sandwich Indian  Vegetarian International  Italian  Steak Pizza  Sandwich Seafood Coffee and Tea  Sandwich Mexican BBQ  Southern British Breakfast  Diner  Sandwich Burger  Bar Food  Sandwich American  Burger  Bar Food Caribbean  Sandwich  Seafood Burger  British  Bar Food Mexican  Tex-Mex Chinese  Vietnamese Seafood  Steak Diner  Bar Food  Sandwich Burger  Bar Food  Sandwich Sandwich  Healthy Food Burger  Bar Food  Sandwich Japanese  Sushi American  Breakfast Burger  German  Bar Food Thai Chinese Breakfast  Coffee and Tea  Sandwich Indian  Vegetarian Mexican  Tex-Mex Greek  Mediterranean  Middle Eastern American Burger  Bar Food  Sandwich American  Seafood  Steak Breakfast  Sandwich  Chili Japanese  Seafood  Sushi Sandwich  Healthy Food Japanese  Seafood  Sushi Burger  Bar Food  Sandwich Asian  Chinese  Dim Sum French American  Sandwich  Seafood Burger  Bar Food  Sandwich Burger  Bar Food  Steak Chinese Thai  Vegetarian American  Burger  Sandwich Diner  Chili Asian  Sushi  Thai BBQ  Southern  Vegetarian Korean  Sushi  Ramen Indian  Vegetarian French  Steak Indian BBQ  Sandwich Sandwich  Vegetarian  Tea International  Mediterranean  Burger Burger  Bar Food  Sandwich Breakfast  Diner  Sandwich Asian  Japanese  Sushi American Burger  Fast Food Desserts  Ice Cream Indian  Pakistani Asian  Chinese  Thai Mexican American  International  Southwestern Burger  Seafood  Steak Burger  Seafood  Steak Fast Food  Sandwich BBQ  Seafood  Cajun Desserts Asian  Chinese American  Breakfast  Healthy Food Japanese  Seafood  Sushi Burger  Bar Food Italian  Sandwich  Healthy Food Italian  Pizza  Sandwich Burger  Bar Food  Sandwich Indian German Mexican Pizza  Sandwich Italian  Pizza  Sandwich Italian  Pizza BBQ Chinese Asian  Thai American  Seafood  Southern American  Diner  Vegetarian Pizza  Sandwich Steak Pizza  Sandwich Japanese  Sushi Bar Food Asian  Korean  Sushi Japanese  Steak  Sushi Pizza European  Burger Mexican Bar Food Burger  Bar Food  Sandwich BBQ  Southern BBQ  Southern Breakfast  Burger  Diner Desserts  Ice Cream Italian Desserts  Beverages American  Bar Food  Seafood Breakfast  Diner  Sandwich Japanese  Sushi Italian  Pizza  Sandwich Burger  Bar Food Indian  Vegetarian Burger  Fast Food American  Burger BBQ  Southern American  Vegetarian American  International Desserts American  Burger  Bar Food Fast Food  Beverages  Tex-Mex Pizza  Healthy Food American  Italian  Pizza Mexican  Tex-Mex Burger  Desserts  Sandwich American  Steak Italian  Seafood Burger  Bar Food  Sandwich American  Steak Chinese German  Bar Food  Steak American  Breakfast  Burger Italian  Pizza  California American  Burger  Sandwich Italian  Pizza  Sandwich Mediterranean  Middle Eastern  Vegetarian Breakfast  European  Bar Food Sandwich  Bar Food Asian  Sandwich  Vietnamese Burger  Sandwich Desserts  Sandwich Japanese  Sushi Breakfast  French  International Italian  Pizza  Sandwich Chinese  Vegetarian Mexican  Tex-Mex Pizza  Sandwich  Healthy Food Burger  Bar Food  Sandwich Bar Food Asian  Chinese  Thai Burger  British  Bar Food International  Thai Burger  Pizza  Bar Food Breakfast  Coffee and Tea  Sandwich Asian  Thai Chinese Seafood Sandwich  Chili Pizza  Sandwich  Healthy Food Korean Italian  Pizza  Sandwich Japanese  Sushi American Breakfast  Diner  Greek Chinese  Thai Breakfast  Mediterranean  Sandwich Asian  Japanese  Sushi Burger  Bar Food  Sandwich European  German Mexican Desserts  Diner  European Sushi  Thai Fast Food  Mexican Fast Food  Tex-Mex Indian  Vegetarian Sandwich Mexican Sandwich Mexican Mexican Chinese  Sushi Desserts  Italian Diner  Bar Food  Sandwich Indian Japanese  Steak  Sushi Breakfast Greek  Middle Eastern Cafe  Coffee and Tea  French Breakfast  Sandwich  Steak BBQ  Southern Burger  Bar Food  Sandwich Fast Food Italian  Pizza  Sandwich Mexican Greek  Middle Eastern  Vegetarian Chinese Burger  Bar Food  Sandwich Asian  Chinese Breakfast  Burger  Diner Sandwich American  French  Burger  Sandwich  Coffee and Tea Pizza Pizza Pizza  Bar Food  Sandwich Italian Burger  Bar Food  Sandwich Breakfast Bar Food American  Tapas American  Burger  Bar Food Mexican Coffee and Tea  Desserts American  Bar Food Bar Food  Sandwich  Steak Mediterranean  Middle Eastern Italian  Pizza  Sandwich Chinese Mexican Breakfast  Diner  Sandwich Asian  Japanese  Sushi Greek  Mediterranean  Turkish Asian  Chinese  Dim Sum Chinese Bar Food  Seafood Chinese  Vegetarian Coffee and Tea  Sandwich  Vegetarian Desserts  Italian  Pizza Mexican Desserts  Bagels Burger  Bar Food  Sandwich Breakfast  Sandwich  Healthy Food Greek Burger  Bar Food  Sandwich Asian  Fast Food American  BBQ  Pizza Thai Breakfast  Diner  Sandwich Mexican Desserts Coffee and Tea  Sandwich Burger  German  Pizza Mexican Coffee and Tea Burger  Chili Caribbean  International  Latin American Burger  Bar Food  Sandwich Pizza  Bar Food  Sandwich Burger  Diner  Sandwich American  Seafood Breakfast  Sandwich Indian  Vegetarian Asian  Chinese  Thai American  Breakfast  Diner Fast Food  Cajun American  French  Sandwich American Pizza  Sandwich Italian  Pizza American  Sandwich  Vegetarian Japanese  Sushi Chinese American  Burger  Sandwich Coffee and Tea  Sandwich  Tea Seafood  Cajun Diner  Sandwich Italian Asian  Korean Pizza  Bar Food Desserts Bakery  French Burger  Bar Food  Sandwich Breakfast  Diner  Sandwich Pizza Italian  Pizza  Sandwich Coffee and Tea  Sandwich Coffee and Tea Breakfast  Coffee and Tea  Sandwich French American American  BBQ  Steak Cafe  American Pizza  American  Pub Food American  Steak American  Seafood  Steak Asian  Korean  Vegetarian BBQ  Sandwich  Southern Burger  Bar Food  Sandwich Burger  Sandwich  Seafood European  American Burger  Bar Food  Sandwich American  BBQ  Burger Thai Burger  Bar Food Burger  Bar Food  Sandwich Burger  Bar Food  Sandwich Bar Food  Sandwich  Steak Burger  Bar Food  Steak Coffee and Tea  Sandwich Fast Food  Sandwich Mexican  Bar Food Burger  Bar Food  Sandwich Pizza Asian  Japanese  Sushi Burger  Pizza  Sandwich American  Burger  Sandwich Chinese  Sushi Greek  Mediterranean  Chili Chinese American  European  Sandwich Burger  Bar Food  Sandwich Mexican Breakfast  Coffee and Tea  Sandwich Japanese  Steak  Sushi German  Bar Food Chinese American  Bar Food  Steak Breakfast  Sandwich Burger  Bar Food  Sandwich American  Breakfast  Chili Chinese  Asian Coffee and Tea Sandwich Burger  Bar Food  Sandwich Pizza Chinese Breakfast  Diner  Chili Burger  Desserts  Fast Food Asian  Sushi  Thai American  Burger  Sandwich BBQ  Burger  Southern Burger  Diner  Sandwich Mexican  Tex-Mex Italian  Pizza American  Diner  Sandwich Desserts  Sandwich Mexican  Tex-Mex Italian  Pizza  Seafood Pizza  Bar Food  Sandwich Chinese Desserts  Pizza  Sandwich Chinese Italian  Pizza International  Bar Food American  Pizza American  Seafood Coffee and Tea  Sandwich Japanese  Sushi Burger  Bar Food  Sandwich Southern  Steak American  Breakfast BBQ  Sandwich Burger  Bar Food  Steak American Coffee and Tea  Desserts Mexican Burger  Bar Food  Sandwich Pizza Burger American  Coffee and Tea American Chinese Pizza  Bar Food Indian  Vegetarian Mexican Sandwich  Healthy Food Chinese  Thai  Vietnamese Sandwich Sandwich Thai Tapas Italian  Pizza  Sandwich Pub Food Coffee and Tea International Mexican American  Burger  Cajun Mexican Greek  Mediterranean  Sandwich Pizza American  Burger  Bar Food Desserts  Ice Cream Desserts Asian  Chinese  Seafood Asian  Chinese  Thai Coffee and Tea  Sandwich Mexican  Tex-Mex BBQ  Southern  Bubble Tea Pizza Burger  Bar Food  Sandwich American  Breakfast  Burger Desserts Caribbean  Cuban Sandwich Burger  Bar Food Burger  Bar Food  Sandwich Asian  Chinese  Sushi American  Burger  Bar Food Mexican  Tex-Mex Desserts Asian  Chinese  Thai American  Burger  Bar Food Breakfast  Coffee and Tea  Sandwich Fast Food  Sandwich American  Pizza Breakfast  Coffee and Tea  Donuts Bagels  Sandwich American Breakfast  Coffee and Tea  Sandwich Burger  Bar Food  Sandwich American  Breakfast  Sandwich Burger  Pizza  Bar Food Bar Food Burger  Pizza  Bar Food American Chinese Fast Food  Southwestern Sandwich  Healthy Food Mexican  Tex-Mex Chinese Coffee and Tea  Desserts  Tea Ethiopian Burger  Bar Food  Sandwich Mexican  Tex-Mex Mexican  Tex-Mex Pizza Pizza  Sandwich Chinese Indian  Vegetarian Caribbean  Diner  Southern Mediterranean  Vegetarian Breakfast  Diner  Sandwich Asian  Breakfast  Desserts Asian  Japanese  Sushi Mexican Coffee and Tea  Sandwich  Bar Food Breakfast  Burger  Diner Asian  Breakfast  Chinese Burger  Greek  Sandwich Fast Food  Tex-Mex Seafood Desserts Pizza  Sandwich Coffee and Tea  Middle Eastern Japanese  Korean  Sushi Chinese Chinese Vegetarian European Indian  Middle Eastern  Pakistani American  Italian  Sandwich Indian  Vegetarian Italian  Pizza  Sandwich Chinese Desserts  Fast Food Bar Food Pizza  Healthy Food Coffee and Tea  Deli Coffee and Tea Pizza  Sandwich  Vegetarian Desserts  Sandwich Burger  Bar Food  Sandwich Burger  Bar Food  Sandwich Burger  Bar Food Sandwich Fast Food  Pizza Asian  Japanese  Sushi Fast Food American  BBQ  Burger American  Cafe Chinese  Japanese  Sushi Italian Japanese  Steak  Sushi Mexican  Tex-Mex BBQ  Pizza  Sandwich Sandwich Asian  Chinese  Dim Sum Mexican Chinese  Burger  Pizza  Bar Food American  Italian American  Bar Food Breakfast  Diner  Sandwich Pizza  Healthy Food Greek  Mediterranean Breakfast  Coffee and Tea  Sandwich Pizza  Bar Food  Sandwich  American  Burger  Sandwich Desserts Burger  Bar Food  Sandwich Bar Food  Seafood  Steak American  Sandwich American  Sandwich  Healthy Food Pizza Vietnamese Burger Brazilian  Coffee and Tea Sandwich  Vegetarian Burger  Pizza  Bar Food Japanese  Steak Middle Eastern  Moroccan Breakfast  Diner  Chili Chinese Burger  Bar Food  Sandwich American  Greek  Sandwich American  Pizza  Bar Food Breakfast  Diner  Sandwich Desserts Diner  Chili BBQ  Southern Asian  Chinese  Vegetarian Coffee and Tea  Sandwich  Tea American African Fast Food  Cajun Sandwich  Beverages  Vegetarian American  Caribbean  Latin American Burger  Bar Food Bar Food  Sandwich  Tex-Mex American  Breakfast Desserts Fast Food Pizza  Healthy Food Desserts Burger  Bar Food  Sandwich Breakfast  Vietnamese American Italian  Pizza  Sandwich Chinese Mexican Desserts Coffee and Tea Coffee and Tea  International Mexican  Tex-Mex  Chinese Italian  Pizza  Sandwich Burger  Bar Food  Sandwich Chinese Burger  Pizza  Healthy Food Sandwich Asian  Chinese Cafe  Desserts  Sandwich Burger  Chili Italian  Pizza  Sandwich Indian  Pakistani Bar Food  Sandwich  Chili Mexican  Tex-Mex Mexican Mexican  Tex-Mex Sandwich Mediterranean  Middle Eastern Burger  Bar Food Chili Coffee and Tea Coffee and Tea  Tea Coffee and Tea  Pizza  Sandwich Fast Food Bar Food  Sandwich Korean  Sushi Steak  Mexican Coffee and Tea Vegetarian  Healthy Food Burger  Bar Food Desserts Pizza  Salad  American Desserts Chinese Mexican Asian  Chinese  Vietnamese Mexican Sandwich American American  Sandwich  Seafood Sandwich Fast Food  Southwestern  Tex-Mex Chinese Asian  Chinese Mexican  Vegetarian Burger  Bar Food  Sandwich BBQ  Korean Sandwich Breakfast  Diner  Sandwich Donuts Desserts  Donuts Sandwich Breakfast  Coffee and Tea  Sandwich Breakfast  Coffee and Tea  Tea BBQ  Desserts  Healthy Food Chinese Sandwich Asian  Chinese Asian  Chinese  Dim Sum American BBQ  Southwestern Fast Food  Sandwich Mexican  Tex-Mex Bar Food  Steak Breakfast  Burger  Diner Fast Food  Mexican Burger  Sandwich  Chili Chinese Fast Food  Sandwich Breakfast  Desserts  Bar Food Coffee and Tea  Desserts Italian Bakery  Coffee and Tea Asian  Sushi Donuts American Asian  Chinese Mediterranean  Middle Eastern  Vegetarian  Burger  Bar Food Chinese Breakfast  Diner  Sandwich Desserts Chinese American  Bar Food  Sandwich Pizza Burger  Bar Food  Sandwich American Mexican  Tex-Mex Burger  Bar Food  Sandwich Chinese Bar Food Chinese Breakfast  Sandwich Breakfast  Bar Food  Sandwich Bakery American  Afghan Breakfast  Coffee and Tea  Sandwich Japanese  Sushi Chinese  Japanese  Sushi Burger  Bar Food  Sandwich Pizza Coffee and Tea  Sandwich American  Burger  Bar Food Pizza  Sandwich Pizza Chinese Breakfast  Sandwich American American Seafood Korean  Sandwich Seafood Pizza  Sandwich  Healthy Food Burger  Bar Food BBQ  Sandwich American  Bar Food Bar Food  Chinese Greek  Italian  Mediterranean American  Burger  Sandwich  Salad Chinese  Sushi Chinese  Korean  Teriyaki American  Burger  Steak Burger  Sandwich Chinese Chinese Coffee and Tea  Desserts Burger  Bar Food  Sandwich Burger  Fast Food American  Bar Food  Seafood Mexican Sandwich  Sushi American  Diner Fast Food  Sandwich Seafood  American Burger  Bar Food Desserts  Fast Food American Cafe  Burger  Sandwich Burger  Bar Food  Sandwich BBQ  Bar Food Breakfast  Sandwich Chinese  Thai Tea Vegetarian Pizza Italian  Seafood Diner BBQ Asian  International  Sushi Desserts  International  Eastern European American  Greek Chinese Mexican Japanese  Sushi Mexican Italian  Mediterranean  Sandwich Mexican  Tex-Mex Cajun Sandwich Chinese Bar Food  Sushi Mexican American Diner  Fast Food Desserts Chinese American Chinese BBQ  Burger  Pizza Italian  Pizza  Sandwich Pizza Fast Food Mexican Chinese Diner  Sandwich Pizza Chinese American American  BBQ Diner  Pizza Chinese American  Breakfast  Diner Chinese Desserts Desserts American  Italian  Sandwich Pizza  Sandwich  Healthy Food American  Bar Food  Sushi American Bar Food Mexican American  Breakfast Mexican  Seafood Desserts Desserts Mexican  Desserts Mexican American  Burger  Desserts  Seafood  Steak  Bar Food Desserts Chinese Fast Food Mediterranean  Middle Eastern  Moroccan American Burger  Diner  Sandwich Pizza  Sandwich  Healthy Food Pizza Pizza Fast Food  Southern Sandwich Mexican Chinese Chinese Fast Food Chinese American American Chinese Pizza American  Cafe Korean  Asian Pizza Greek  Mediterranean Desserts Sandwich Donuts  Chinese Bar Food Sandwich Thai  Sushi  Asian Coffee and Tea Sandwich American  Burger American Steak Chinese Burger  Pizza  Sandwich  Pizza  Sandwich  Healthy Food Breakfast  Beverages  Healthy Food American  Diner  Sandwich Sandwich  Tapas Chinese Steak Sandwich American  Desserts  Pizza American Chinese American  Asian Mexican Mediterranean  Middle Eastern British  Bar Food Coffee and Tea Fast Food Chinese  Japanese  Thai Asian  Chinese Burger  Bar Food  Sandwich Bar Food American  BBQ Chinese Desserts Fast Food American Burger  Pizza  Healthy Food Fast Food  Chili Italian  Pizza  Sandwich American  American  Sandwich Bar Food Mexican Pizza Bar Food  Sandwich  Healthy Food Breakfast  Diner  Sandwich Bar Food  Deli Pizza  Sandwich  Healthy Food Desserts  Ice Cream American  Desserts  Diner Desserts  American Seafood Burger  Bar Food Sandwich American  Burger  Bar Food American Burger  Bar Food  Sandwich Desserts Chinese Sandwich  Healthy Food  American  Burger  Bar Food American Japanese  Korean  Sushi Mediterranean  Middle Eastern Burger  Bar Food  Sandwich Chinese American  Breakfast Breakfast  Burger  Diner Bar Food  Sandwich Pizza  Bar Food American  Burger  Chili Southern Brazilian  German Coffee and Tea  Desserts Asian  Chinese  Thai Chinese Greek  Sandwich  Chili American  Burger Coffee and Tea  Sandwich  Tea American  Burger  Desserts Middle Eastern Pizza Pizza Coffee and Tea  Tea Breakfast  Sandwich Desserts  Japanese  Sushi Coffee and Tea  Desserts Ice Cream Pizza Pizza Desserts Desserts  Sandwich  Vegetarian Italian  Pizza American  Burger  Bar Food Fast Food  Seafood Pizza  Sandwich Chinese American  Coffee and Tea  Diner Burger  Desserts British  Bar Food Coffee and Tea  Beverages Fast Food  Southwestern  Tex-Mex Desserts American  Breakfast  Sandwich Coffee and Tea  Desserts Desserts  Indian  Sushi American Coffee and Tea Japanese  Korean  Sushi Pizza Mexican American  Sandwich American  Seafood Donuts Pizza  Sandwich  Healthy Food American American Burger  Bar Food American  Tapas Colombian  Fast Food Chinese  American  Breakfast  Sandwich Chinese Breakfast  Burger  Diner American  Diner  Pizza  Desserts Chinese  Thai Fast Food Mexican Fast Food  Pizza American  BBQ  Southern Chinese American Pizza  Asian  Sushi  Thai Pizza  Sandwich American  Bar Food Chinese American  Coffee and Tea  Cafe  Coffee and Tea Burger  Bar Food  Sandwich Fast Food  Pizza Burger  Diner  Steak Burger  Bar Food  Chili American American Chinese Tapas American  International Desserts Desserts  Ice Cream Greek  Mediterranean  Healthy Food Burger  Bar Food  Sandwich American  French Desserts Coffee and Tea  Sandwich American  Sandwich Thai American Italian  Sandwich  Chili Coffee and Tea  Desserts BBQ Indian Italian Chinese New American  Sandwich Fast Food  Sandwich American  Burger  Bar Food Desserts  Italian Chinese  Thai Pizza Breakfast  Diner Sandwich  Vegetarian Fast Food  Tex-Mex American  Burger  Sandwich Indian Indian Burger  Bar Food Asian Chinese Fast Food Burger  Diner  Sandwich Desserts French American  Breakfast  Burger Mexican Breakfast  Bar Food  Steak  Breakfast BBQ Vegetarian  Fusion Chinese Steak Fast Food  Southwestern  Tex-Mex  Burger  Bar Food  Sandwich Coffee and Tea Pizza  Sandwich Deli Coffee and Tea Asian  Chinese  Thai Burger  Bar Food  Sandwich Asian  Sushi Sushi  Vegetarian American Coffee and Tea  Sandwich Mexican Pizza  Sandwich American  Burger Caribbean  Cuban  Sandwich Mexican Burger  Bar Food  Sandwich American American  Bar Food Desserts Bar Food  Seafood  Steak Burger  Bar Food  Sandwich American  International  Mediterranean  Fast Food Bar Food Fast Food  Sandwich  Cajun Pizza  Sandwich Fast Food  Mexican Coffee and Tea  Sandwich Asian  Mexican American Italian  Pizza Mediterranean  Turkish Coffee and Tea  Sandwich  Beverages Latin American American American  Bar Food  Southern American American Desserts  Sandwich Seafood  Breakfast  Burger  Bar Food Coffee and Tea French  Healthy Food Pizza Coffee and Tea Coffee and Tea  Desserts  Sandwich American Bar Food Burger  Bar Food  Sandwich Latin American Pizza Seafood  Bar Food Seafood Pizza Beverages Desserts Coffee and Tea Diner  Mediterranean  Moroccan American American  Tapas Pizza  Bar Food  Sandwich  Mexican  Latin American  Ecuadorian Italian  Pizza American American  Breakfast Breakfast Breakfast  Sandwich  Chili American  Filipino  Tex-Mex Breakfast  Burger  Diner Mexican Desserts Fast Food American  Sandwich  Healthy Food BBQ Chinese Chinese Chinese Burger  Bar Food  Sandwich Thai Desserts Burger  Fast Food  Pizza Bar Food Mexican Pizza Pizza American  Pizza  Sandwich British  European  Tea Mexican  Tex-Mex Coffee and Tea  American Coffee and Tea BBQ  Pizza Mediterranean  Turkish Mexican Steak Desserts  Donuts Indian Desserts  Greek Chinese Breakfast  Burger  Fast Food Mexican Sandwich  Chinese Mexican  Seafood Chinese Burger  Bar Food  Sandwich Pizza German  Bar Food American  Italian  Bar Food American Drinks Only Sandwich  Burger  Fast Food Fast Food BBQ Desserts American  Sandwich Sandwich  Deli Fast Food  Ice Cream Mexican  Tex-Mex International  Sushi Bar Food  Fast Food  Donuts Chinese  French Coffee and Tea American Sandwich  Chili Chinese Bar Food Bakery Mexican American Deli Mexican  BBQ  Southern Burger  Bar Food American  Steak  Tapas American  Bar Food  Burger Mexican  Taco American  Chili  American Desserts American  European Sushi American  Burger  Sandwich Chinese Asian  Chinese  Seafood American  Pizza  Burger  Desserts Coffee and Tea  Tea Fast Food  Tex-Mex Burger  Bar Food  Sandwich American  Pizza  Sandwich Asian  Japanese  Sushi Desserts  Sandwich Mexican Bar Food American  Chili Vietnamese Burger  Desserts  Pizza American Burger  Bar Food  Sandwich American  Burger  Ice Cream Breakfast  Desserts American American Sandwich  Healthy Food Fast Food  Sandwich Pizza Pizza Breakfast  Bar Food  Sandwich  Breakfast  Coffee and Tea Desserts Fast Food  Tex-Mex American American  Breakfast  Diner Sandwich  Chili Pizza Desserts Italian Desserts Desserts American  Southern Indian  Vegetarian American Italian Breakfast  Sandwich Pizza Bakery  Coffee and Tea Chinese American  BBQ  Soul Food American  Burger  Bar Food American Burger  Bar Food  Sandwich American American Sandwich Sandwich Sandwich  Southern Desserts  European Sandwich  Bar Food Breakfast  Coffee and Tea  Sandwich Breakfast  Diner  Sandwich Donuts  Burger  Diner Sandwich Greek  Pizza  Sandwich American  Italian Breakfast  Burger  Sandwich Pizza  Bar Food Middle Eastern Pizza American Donuts American Pizza Chinese American  Bar Food  Sandwich Pizza Desserts Pizza Burger  Sandwich Burger  Bar Food Sandwich Bar Food  Sandwich Fast Food Fast Food  Pizza International  Fast Food  Pizza Chinese Burger  Bar Food  Sandwich Burger  Bar Food  Chili Pizza  Sandwich Belgian Chinese British  Tea Diner Bar Food Chinese Fast Food Sandwich Pizza Pizza Pizza  Sandwich Fast Food Bar Food Mexican  Breakfast Desserts BBQ Fast Food  Japanese Desserts Coffee and Tea  Sandwich Beverages  Diner  Sandwich Mexican American  BBQ  Burger Burger  German  Sandwich Pizza American  Diner Coffee and Tea  Beverages  Tea Bar Food Indian  Pakistani Sandwich Bar Food  Sandwich  Healthy Food Mexican Chinese  Fast Food  Sandwich Italian  Pizza  Sandwich Chinese Seafood Fast Food  Beverages  Tex-Mex American Pizza Asian  Chinese Thai Burger  Bar Food  Sandwich Bar Food Burger  Diner  Bar Food Asian  Chinese Southern Bar Food Desserts American Burger  Bar Food  Sandwich Desserts American  Burger  Sandwich Pizza Desserts  BBQ  Cafe Pizza Burger  Bar Food  Sandwich Desserts Bar Food Pizza  Bar Food Desserts  Ice Cream Asian  Thai  Vegetarian Fast Food  American  Breakfast Sandwich Desserts Sandwich  Healthy Food Coffee and Tea Chinese American  Burger  Pizza Chinese Beverages  Vegetarian Sandwich  Healthy Food American  Burger  Italian Desserts American  Sandwich American American  Bar Food  Sandwich American Greek  Mediterranean  Eastern European Bar Food  Mexican Bar Food American Sandwich  Healthy Food Burger  Bar Food  Sandwich Burger  Bar Food  Sandwich Greek  Mediterranean  Turkish American  Bar Food  Sandwich Pizza  Sandwich  Healthy Food Burger  Bar Food  Sandwich American  Pizza  Bar Food  Coffee and Tea  Diner Fast Food Pizza American  Coffee and Tea  Diner Desserts Coffee and Tea  Desserts Desserts Coffee and Tea  Sandwich Desserts Frozen Yogurt  Ice Cream Sandwich  Healthy Food Japanese  Sushi Breakfast  Sandwich Sushi Italian  Pizza Bar Food Fast Food  Seafood Fast Food Desserts  Italian American American  Diner Mexican Pizza  Sandwich  Healthy Food Pizza  Bar Food  Steak Pizza  Sandwich Fast Food  Chili Pizza American  Breakfast  Steak Coffee and Tea Sandwich Bar Food American  Pizza  Sandwich Bar Food Bar Food Bar Food American  International  Coffee and Tea  Desserts  Sandwich Peruvian Pizza Breakfast  Coffee and Tea  Diner Burger  Sandwich American  Burger Desserts Burger  Bar Food  Seafood Coffee and Tea Sandwich  Beverages  Healthy Food American  Sandwich  Chinese Coffee and Tea  Tea Coffee and Tea Burger  Bar Food  Sandwich Fast Food  Southwestern  Tex-Mex American  Diner American  Breakfast  Diner Mexican  Tex-Mex Burger  Sandwich  Healthy Food Desserts American Chinese Bar Food American  Sandwich  Healthy Food American  Bar Food Italian  Pizza  Sandwich Breakfast  Burger American American  Diner American Bar Food Burger  Bar Food  Chili Pizza  Burger  Sandwich Pizza Burger  Diner Desserts Pizza  Sandwich Burger  Desserts Breakfast  Diner  Pizza Coffee and Tea  Tea French  Seafood Burger  Bar Food  Sandwich Desserts Desserts Burger  Bar Food  Coffee and Tea  Tea  Diner  Sandwich  Chili Burger Coffee and Tea Burger  Bar Food  Sandwich Bar Food American  Bar Food American Breakfast  Coffee and Tea  Sandwich Bar Food Chinese Bar Food Pizza Mexican Bar Food Burger  Bar Food Desserts  Ice Cream Mexican Asian  Japanese  American  Breakfast  Sandwich American American American Bar Food Coffee and Tea American  Burger  Vegetarian Coffee and Tea  Desserts Pizza Chinese  Breakfast French Sandwich Desserts Pizza Pizza  Sandwich  Bar Food Fast Food  Sandwich Pizza Desserts Chinese American Sandwich American Desserts Burger  Bar Food  Sandwich Fast Food  Healthy Food Italian Burger  Pizza Fast Food  Sandwich American American Mexican Breakfast  Bar Food  Sandwich  Chinese American  Burger  Steak Mexican Bar Food Mexican Bar Food BBQ  Sandwich Burger  Desserts Mexican  Sandwich American  Bar Food American Tea American Breakfast  Sandwich  Healthy Food Breakfast  Diner Sandwich Bar Food American  Breakfast  Bar Food American American  Breakfast  Bar Food Fast Food Desserts Breakfast  Burger  American Desserts American Burger  Pizza  Bar Food Desserts Desserts  Ice Cream Sandwich American  Breakfast Sandwich Fast Food  Tex-Mex Desserts  Frozen Yogurt American Pizza  Bar Food  Sandwich Desserts Chinese Burger  Bar Food  Sandwich Bar Food American Desserts  Beverages American American Diner Desserts Burger  Diner Pizza American  Bar Food  Diner American  Burger  Vegetarian Sandwich Sandwich Ice Cream American  Burger Cajun Coffee and Tea  Sandwich Bar Food German American Mexican  Tex-Mex  California Bar Food American  Sandwich Burger  Fast Food Burger  Desserts American Bar Food Desserts Desserts Coffee and Tea  Sandwich  Beverages Desserts Desserts BBQ  Sandwich  Southern Desserts Desserts Asian  Chinese Desserts BBQ Coffee and Tea Sandwich Mexican Bar Food Chinese  American American Pizza American  Bar Food Desserts Fast Food Sandwich Sandwich American Fast Food Bar Food Coffee and Tea  Pizza  Bar Food Bar Food Desserts  Ice Cream Bar Food Bar Food Sandwich Bar Food Indian Fast Food  Seafood Desserts  Ice Cream Burger  Bar Food  Sandwich Bar Food Pizza American American Italian  Pizza American  Desserts  Ice Cream American  Pizza  Sandwich Burger  Pizza  Sandwich American  Breakfast  Burger Coffee and Tea  Desserts Fast Food European  Fast Food  French  Coffee and Tea  Desserts Desserts Pizza  Sandwich International  Desserts BBQ American  Desserts  Fast Food American  Sandwich Sandwich Southern Bar Food Bar Food Bar Food BBQ  Seafood Indian  Pakistani  Vegetarian American  Bar Food Bar Food Bar Food Seafood Sandwich American  Breakfast American  Pizza  Bar Food Desserts  Ice Cream Mexican Pizza American  BBQ  Burger American  Burger  Italian American  Seafood Pizza Burger  Bar Food BBQ  Breakfast  Burger Breakfast  Diner  Sandwich American  Mexican Burger  Pizza  Sandwich Chinese American  Sandwich  Steak Burger  Bar Food Chinese Pizza  Sandwich  Healthy Food Burger  Desserts  Sandwich American  Bar Food  Sandwich Bar Food  Sandwich Italian  Pizza  Sandwich Burger  Diner  Italian American  Mediterranean Mexican  Tex-Mex Burger  Bar Food Japanese  Steak  Sushi Pizza  Sandwich Bar Food  American  BBQ Burger  Greek  Vegetarian Fast Food American  BBQ  American  Bar Food  Seafood Chinese American  Breakfast Pizza  Sandwich Fast Food Sandwich  Healthy Food Coffee and Tea  Sandwich  Healthy Food American  Bar Food  Steak Fast Food Burger  Bar Food Pizza  Sandwich Bar Food Fast Food American  Breakfast Thai  Vegetarian  Tea American  Coffee and Tea  Desserts Desserts  Sandwich  Ice Cream Fast Food  Tex-Mex Southern  Cajun American  Breakfast American  Diner Fast Food Bar Food  Sandwich Fast Food Sandwich Fast Food  Pizza Fast Food Fast Food American  Breakfast  Southwestern Fast Food  Pizza American  Breakfast  Diner Fast Food  Pizza American Fast Food  Ice Cream Fast Food Burger  Sandwich  Healthy Food'"
      ]
     },
     "execution_count": 92,
     "metadata": {},
     "output_type": "execute_result"
    }
   ],
   "source": [
    "cuisinelist"
   ]
  },
  {
   "cell_type": "code",
   "execution_count": 93,
   "metadata": {},
   "outputs": [],
   "source": [
    "wordcloud = WordCloud(width = 800, height = 800, \n",
    "                background_color ='white', \n",
    "                min_font_size = 10).generate(cuisinelist) "
   ]
  },
  {
   "cell_type": "code",
   "execution_count": 94,
   "metadata": {},
   "outputs": [
    {
     "data": {
      "image/png": "[encoded data removed]",
      "text/plain": [
       "<Figure size 576x576 with 1 Axes>"
      ]
     },
     "metadata": {
      "needs_background": "light"
     },
     "output_type": "display_data"
    }
   ],
   "source": [
    "plt.figure(figsize = (8, 8), facecolor = None) \n",
    "plt.imshow(wordcloud) \n",
    "plt.axis(\"off\") \n",
    "plt.tight_layout(pad = 0) \n",
    "  \n",
    "plt.show() "
   ]
  },
  {
   "cell_type": "markdown",
   "metadata": {},
   "source": [
    "The word cloud gives us a glimpse of most common cuisines served by the restaurants"
   ]
  },
  {
   "cell_type": "code",
   "execution_count": 96,
   "metadata": {},
   "outputs": [
    {
     "data": {
      "text/plain": [
       "<matplotlib.axes._subplots.AxesSubplot at 0x15840bebf98>"
      ]
     },
     "execution_count": 96,
     "metadata": {},
     "output_type": "execute_result"
    },
    {
     "data": {
      "image/png": "[encoded data removed]",
      "text/plain": [
       "<Figure size 432x288 with 1 Axes>"
      ]
     },
     "metadata": {
      "needs_background": "light"
     },
     "output_type": "display_data"
    }
   ],
   "source": [
    "sns.distplot(df['ratings'])"
   ]
  },
  {
   "cell_type": "markdown",
   "metadata": {},
   "source": [
    "Ratings are normally distributed between 2 and 5"
   ]
  },
  {
   "cell_type": "code",
   "execution_count": 108,
   "metadata": {},
   "outputs": [
    {
     "data": {
      "text/plain": [
       "<matplotlib.axes._subplots.AxesSubplot at 0x1583df46b70>"
      ]
     },
     "execution_count": 108,
     "metadata": {},
     "output_type": "execute_result"
    },
    {
     "data": {
      "image/png": "[encoded data removed]",
      "text/plain": [
       "<Figure size 864x432 with 1 Axes>"
      ]
     },
     "metadata": {
      "needs_background": "light"
     },
     "output_type": "display_data"
    }
   ],
   "source": [
    "f = plt.figure(figsize=(12,6))\n",
    "sns.boxplot(df['votes'])"
   ]
  },
  {
   "cell_type": "code",
   "execution_count": 112,
   "metadata": {},
   "outputs": [
    {
     "data": {
      "text/plain": [
       "0.10      3.00\n",
       "0.25      6.00\n",
       "0.50     17.00\n",
       "0.75     45.75\n",
       "0.80     58.00\n",
       "0.90    104.00\n",
       "Name: votes, dtype: float64"
      ]
     },
     "execution_count": 112,
     "metadata": {},
     "output_type": "execute_result"
    }
   ],
   "source": [
    "df['votes'].quantile([.1, .25, .5, .75,.8,.9]) "
   ]
  },
  {
   "cell_type": "markdown",
   "metadata": {},
   "source": [
    "As we can see only 10% of the restaurants have 104+ votes and 20% of the restaurants have 58+ votes."
   ]
  },
  {
   "cell_type": "markdown",
   "metadata": {},
   "source": [
    "Let's go ahead and build Knowledge based recommendor system and Content based recommendor system."
   ]
  }
 ],
 "metadata": {
  "kernelspec": {
   "display_name": "Python 3",
   "language": "python",
   "name": "python3"
  },
  "language_info": {
   "codemirror_mode": {
    "name": "ipython",
    "version": 3
   },
   "file_extension": ".py",
   "mimetype": "text/x-python",
   "name": "python",
   "nbconvert_exporter": "python",
   "pygments_lexer": "ipython3",
   "version": "3.7.3"
  }
 },
 "nbformat": 4,
 "nbformat_minor": 2
}
