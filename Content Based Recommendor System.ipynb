{
 "cells": [
  {
   "cell_type": "markdown",
   "metadata": {},
   "source": [
    "## Content Based Restaurant Recommendor System\n",
    "\n",
    "Content-based recommenders suggest similar items based on a particular item. This system uses item metadata, such as Locality, Cuisine, rating, etc. for restaurants, to make these recommendations. The general idea behind these recommender systems is that if a person liked a particular item, he or she will also like an item that is similar to it. We would recommend restaurants similar to the one searched by the user. Our recommender system is highly dependent on defining an appropriate similarity measure. Eventually, we select a subset of restaurants to display to the user.\n",
    "\n",
    "We will be working on the locality , cuisine , cost_for_two and rest_name to find similarity between restaurants. Since the restaurant name might not actually be similar for two restaurants as there are quite a few unique names, we will give less weightage to the restaurant name while making the soup and more weightage to locality , cost_for_two and cusines."
   ]
  },
  {
   "cell_type": "code",
   "execution_count": 266,
   "metadata": {},
   "outputs": [],
   "source": [
    "import numpy as np\n",
    "import pandas as pd \n",
    "import matplotlib.pyplot as plt\n",
    "%matplotlib inline\n",
    "import seaborn as sns\n",
    "from sklearn.feature_extraction.text import TfidfVectorizer\n",
    "from sklearn.feature_extraction.text import CountVectorizer\n",
    "from sklearn.metrics.pairwise import cosine_similarity"
   ]
  },
  {
   "cell_type": "code",
   "execution_count": 238,
   "metadata": {},
   "outputs": [],
   "source": [
    "rest =  pd.read_csv('Zomato_Cincinnati_Restaurant_Clean.csv')"
   ]
  },
  {
   "cell_type": "code",
   "execution_count": 239,
   "metadata": {},
   "outputs": [
    {
     "data": {
      "text/html": [
       "<div>\n",
       "<style scoped>\n",
       "    .dataframe tbody tr th:only-of-type {\n",
       "        vertical-align: middle;\n",
       "    }\n",
       "\n",
       "    .dataframe tbody tr th {\n",
       "        vertical-align: top;\n",
       "    }\n",
       "\n",
       "    .dataframe thead th {\n",
       "        text-align: right;\n",
       "    }\n",
       "</style>\n",
       "<table border=\"1\" class=\"dataframe\">\n",
       "  <thead>\n",
       "    <tr style=\"text-align: right;\">\n",
       "      <th></th>\n",
       "      <th>rest_id</th>\n",
       "      <th>rest_name</th>\n",
       "      <th>locality</th>\n",
       "      <th>cuisines</th>\n",
       "      <th>cost_for_two</th>\n",
       "      <th>ratings</th>\n",
       "      <th>votes</th>\n",
       "    </tr>\n",
       "  </thead>\n",
       "  <tbody>\n",
       "    <tr>\n",
       "      <th>0</th>\n",
       "      <td>17114993</td>\n",
       "      <td>Terry's Turf Club</td>\n",
       "      <td>Hyde Park/Mount Lookout</td>\n",
       "      <td>['Burger', 'Bar Food', 'Sandwich']</td>\n",
       "      <td>Moderately_priced</td>\n",
       "      <td>4.7</td>\n",
       "      <td>1038</td>\n",
       "    </tr>\n",
       "    <tr>\n",
       "      <th>1</th>\n",
       "      <td>17113965</td>\n",
       "      <td>Nada</td>\n",
       "      <td>Downtown</td>\n",
       "      <td>['Breakfast', 'Mexican']</td>\n",
       "      <td>Pricey</td>\n",
       "      <td>4.6</td>\n",
       "      <td>933</td>\n",
       "    </tr>\n",
       "    <tr>\n",
       "      <th>2</th>\n",
       "      <td>17115298</td>\n",
       "      <td>Zip's Cafe</td>\n",
       "      <td>Hyde Park/Mount Lookout</td>\n",
       "      <td>['Burger', 'Bar Food', 'Sandwich']</td>\n",
       "      <td>Inexpensive</td>\n",
       "      <td>4.7</td>\n",
       "      <td>694</td>\n",
       "    </tr>\n",
       "    <tr>\n",
       "      <th>3</th>\n",
       "      <td>17112031</td>\n",
       "      <td>Arthur's</td>\n",
       "      <td>Hyde Park/Mount Lookout</td>\n",
       "      <td>['Burger', 'Bar Food', 'Sandwich']</td>\n",
       "      <td>Moderately_priced</td>\n",
       "      <td>4.7</td>\n",
       "      <td>632</td>\n",
       "    </tr>\n",
       "    <tr>\n",
       "      <th>4</th>\n",
       "      <td>17116251</td>\n",
       "      <td>Senate</td>\n",
       "      <td>Over-the-Rhine/Mount Auburn</td>\n",
       "      <td>['Bar Food']</td>\n",
       "      <td>Moderately_priced</td>\n",
       "      <td>4.6</td>\n",
       "      <td>596</td>\n",
       "    </tr>\n",
       "  </tbody>\n",
       "</table>\n",
       "</div>"
      ],
      "text/plain": [
       "    rest_id          rest_name                     locality  \\\n",
       "0  17114993  Terry's Turf Club  Hyde Park/Mount Lookout       \n",
       "1  17113965  Nada               Downtown                      \n",
       "2  17115298  Zip's Cafe         Hyde Park/Mount Lookout       \n",
       "3  17112031  Arthur's           Hyde Park/Mount Lookout       \n",
       "4  17116251  Senate             Over-the-Rhine/Mount Auburn   \n",
       "\n",
       "                             cuisines       cost_for_two  ratings  votes  \n",
       "0  ['Burger', 'Bar Food', 'Sandwich']  Moderately_priced  4.7      1038   \n",
       "1  ['Breakfast', 'Mexican']            Pricey             4.6      933    \n",
       "2  ['Burger', 'Bar Food', 'Sandwich']  Inexpensive        4.7      694    \n",
       "3  ['Burger', 'Bar Food', 'Sandwich']  Moderately_priced  4.7      632    \n",
       "4  ['Bar Food']                        Moderately_priced  4.6      596    "
      ]
     },
     "execution_count": 239,
     "metadata": {},
     "output_type": "execute_result"
    }
   ],
   "source": [
    "rest.head()"
   ]
  },
  {
   "cell_type": "code",
   "execution_count": 241,
   "metadata": {},
   "outputs": [],
   "source": [
    "from ast import literal_eval\n",
    "rest['cuisines'] = rest['cuisines'].apply(literal_eval)"
   ]
  },
  {
   "cell_type": "code",
   "execution_count": 242,
   "metadata": {},
   "outputs": [],
   "source": [
    "rest.drop(columns=['votes','ratings'],inplace=True)"
   ]
  },
  {
   "cell_type": "code",
   "execution_count": 243,
   "metadata": {},
   "outputs": [
    {
     "data": {
      "text/html": [
       "<div>\n",
       "<style scoped>\n",
       "    .dataframe tbody tr th:only-of-type {\n",
       "        vertical-align: middle;\n",
       "    }\n",
       "\n",
       "    .dataframe tbody tr th {\n",
       "        vertical-align: top;\n",
       "    }\n",
       "\n",
       "    .dataframe thead th {\n",
       "        text-align: right;\n",
       "    }\n",
       "</style>\n",
       "<table border=\"1\" class=\"dataframe\">\n",
       "  <thead>\n",
       "    <tr style=\"text-align: right;\">\n",
       "      <th></th>\n",
       "      <th>rest_id</th>\n",
       "      <th>rest_name</th>\n",
       "      <th>locality</th>\n",
       "      <th>cuisines</th>\n",
       "      <th>cost_for_two</th>\n",
       "    </tr>\n",
       "  </thead>\n",
       "  <tbody>\n",
       "    <tr>\n",
       "      <th>0</th>\n",
       "      <td>17114993</td>\n",
       "      <td>Terry's Turf Club</td>\n",
       "      <td>Hyde Park/Mount Lookout</td>\n",
       "      <td>[Burger, Bar Food, Sandwich]</td>\n",
       "      <td>Moderately_priced</td>\n",
       "    </tr>\n",
       "    <tr>\n",
       "      <th>1</th>\n",
       "      <td>17113965</td>\n",
       "      <td>Nada</td>\n",
       "      <td>Downtown</td>\n",
       "      <td>[Breakfast, Mexican]</td>\n",
       "      <td>Pricey</td>\n",
       "    </tr>\n",
       "    <tr>\n",
       "      <th>2</th>\n",
       "      <td>17115298</td>\n",
       "      <td>Zip's Cafe</td>\n",
       "      <td>Hyde Park/Mount Lookout</td>\n",
       "      <td>[Burger, Bar Food, Sandwich]</td>\n",
       "      <td>Inexpensive</td>\n",
       "    </tr>\n",
       "    <tr>\n",
       "      <th>3</th>\n",
       "      <td>17112031</td>\n",
       "      <td>Arthur's</td>\n",
       "      <td>Hyde Park/Mount Lookout</td>\n",
       "      <td>[Burger, Bar Food, Sandwich]</td>\n",
       "      <td>Moderately_priced</td>\n",
       "    </tr>\n",
       "    <tr>\n",
       "      <th>4</th>\n",
       "      <td>17116251</td>\n",
       "      <td>Senate</td>\n",
       "      <td>Over-the-Rhine/Mount Auburn</td>\n",
       "      <td>[Bar Food]</td>\n",
       "      <td>Moderately_priced</td>\n",
       "    </tr>\n",
       "  </tbody>\n",
       "</table>\n",
       "</div>"
      ],
      "text/plain": [
       "    rest_id          rest_name                     locality  \\\n",
       "0  17114993  Terry's Turf Club  Hyde Park/Mount Lookout       \n",
       "1  17113965  Nada               Downtown                      \n",
       "2  17115298  Zip's Cafe         Hyde Park/Mount Lookout       \n",
       "3  17112031  Arthur's           Hyde Park/Mount Lookout       \n",
       "4  17116251  Senate             Over-the-Rhine/Mount Auburn   \n",
       "\n",
       "                       cuisines       cost_for_two  \n",
       "0  [Burger, Bar Food, Sandwich]  Moderately_priced  \n",
       "1  [Breakfast, Mexican]          Pricey             \n",
       "2  [Burger, Bar Food, Sandwich]  Inexpensive        \n",
       "3  [Burger, Bar Food, Sandwich]  Moderately_priced  \n",
       "4  [Bar Food]                    Moderately_priced  "
      ]
     },
     "execution_count": 243,
     "metadata": {},
     "output_type": "execute_result"
    }
   ],
   "source": [
    "rest.head()"
   ]
  },
  {
   "cell_type": "markdown",
   "metadata": {},
   "source": [
    "Create a copy of the database. "
   ]
  },
  {
   "cell_type": "code",
   "execution_count": 244,
   "metadata": {},
   "outputs": [],
   "source": [
    "restc = rest.copy()"
   ]
  },
  {
   "cell_type": "code",
   "execution_count": 245,
   "metadata": {},
   "outputs": [
    {
     "data": {
      "text/html": [
       "<div>\n",
       "<style scoped>\n",
       "    .dataframe tbody tr th:only-of-type {\n",
       "        vertical-align: middle;\n",
       "    }\n",
       "\n",
       "    .dataframe tbody tr th {\n",
       "        vertical-align: top;\n",
       "    }\n",
       "\n",
       "    .dataframe thead th {\n",
       "        text-align: right;\n",
       "    }\n",
       "</style>\n",
       "<table border=\"1\" class=\"dataframe\">\n",
       "  <thead>\n",
       "    <tr style=\"text-align: right;\">\n",
       "      <th></th>\n",
       "      <th>rest_id</th>\n",
       "      <th>rest_name</th>\n",
       "      <th>locality</th>\n",
       "      <th>cuisines</th>\n",
       "      <th>cost_for_two</th>\n",
       "    </tr>\n",
       "  </thead>\n",
       "  <tbody>\n",
       "    <tr>\n",
       "      <th>0</th>\n",
       "      <td>17114993</td>\n",
       "      <td>Terry's Turf Club</td>\n",
       "      <td>Hyde Park/Mount Lookout</td>\n",
       "      <td>[Burger, Bar Food, Sandwich]</td>\n",
       "      <td>Moderately_priced</td>\n",
       "    </tr>\n",
       "    <tr>\n",
       "      <th>1</th>\n",
       "      <td>17113965</td>\n",
       "      <td>Nada</td>\n",
       "      <td>Downtown</td>\n",
       "      <td>[Breakfast, Mexican]</td>\n",
       "      <td>Pricey</td>\n",
       "    </tr>\n",
       "    <tr>\n",
       "      <th>2</th>\n",
       "      <td>17115298</td>\n",
       "      <td>Zip's Cafe</td>\n",
       "      <td>Hyde Park/Mount Lookout</td>\n",
       "      <td>[Burger, Bar Food, Sandwich]</td>\n",
       "      <td>Inexpensive</td>\n",
       "    </tr>\n",
       "    <tr>\n",
       "      <th>3</th>\n",
       "      <td>17112031</td>\n",
       "      <td>Arthur's</td>\n",
       "      <td>Hyde Park/Mount Lookout</td>\n",
       "      <td>[Burger, Bar Food, Sandwich]</td>\n",
       "      <td>Moderately_priced</td>\n",
       "    </tr>\n",
       "    <tr>\n",
       "      <th>4</th>\n",
       "      <td>17116251</td>\n",
       "      <td>Senate</td>\n",
       "      <td>Over-the-Rhine/Mount Auburn</td>\n",
       "      <td>[Bar Food]</td>\n",
       "      <td>Moderately_priced</td>\n",
       "    </tr>\n",
       "  </tbody>\n",
       "</table>\n",
       "</div>"
      ],
      "text/plain": [
       "    rest_id          rest_name                     locality  \\\n",
       "0  17114993  Terry's Turf Club  Hyde Park/Mount Lookout       \n",
       "1  17113965  Nada               Downtown                      \n",
       "2  17115298  Zip's Cafe         Hyde Park/Mount Lookout       \n",
       "3  17112031  Arthur's           Hyde Park/Mount Lookout       \n",
       "4  17116251  Senate             Over-the-Rhine/Mount Auburn   \n",
       "\n",
       "                       cuisines       cost_for_two  \n",
       "0  [Burger, Bar Food, Sandwich]  Moderately_priced  \n",
       "1  [Breakfast, Mexican]          Pricey             \n",
       "2  [Burger, Bar Food, Sandwich]  Inexpensive        \n",
       "3  [Burger, Bar Food, Sandwich]  Moderately_priced  \n",
       "4  [Bar Food]                    Moderately_priced  "
      ]
     },
     "execution_count": 245,
     "metadata": {},
     "output_type": "execute_result"
    }
   ],
   "source": [
    "restc.head()"
   ]
  },
  {
   "cell_type": "code",
   "execution_count": 248,
   "metadata": {},
   "outputs": [
    {
     "data": {
      "text/plain": [
       "0       [Burger, Bar Food, Sandwich]            \n",
       "1       [Breakfast, Mexican]                    \n",
       "2       [Burger, Bar Food, Sandwich]            \n",
       "3       [Burger, Bar Food, Sandwich]            \n",
       "4       [Bar Food]                              \n",
       "5       [Indian, Pakistani, Vegetarian]         \n",
       "6       [BBQ, Southern]                         \n",
       "7       [Burger, Bar Food]                      \n",
       "8       [Mexican, California]                   \n",
       "9       [Italian, Pizza]                        \n",
       "10      [German]                                \n",
       "11      [BBQ, Bar Food]                         \n",
       "12      [Sandwich, Vegetarian]                  \n",
       "13      [Belgian, European, International]      \n",
       "14      [Sushi, Thai, Vegetarian]               \n",
       "15      [Southern]                              \n",
       "16      [Steak]                                 \n",
       "17      [Desserts, Italian, Pizza]              \n",
       "18      [French, Italian, Tapas]                \n",
       "19      [Pizza]                                 \n",
       "20      [Seafood, Cajun]                        \n",
       "21      [Breakfast, Italian, Pizza]             \n",
       "22      [Sandwich, Vietnamese]                  \n",
       "23      [Desserts, Ice Cream]                   \n",
       "24      [Sandwich]                              \n",
       "25      [Burger, Bar Food]                      \n",
       "26      [American, French, Italian]             \n",
       "27      [Indian, Pakistani]                     \n",
       "28      [Burger, Sandwich]                      \n",
       "29      [Asian, Chinese]                        \n",
       "              ...                               \n",
       "1872    [Coffee and Tea, Sandwich, Healthy Food]\n",
       "1873    [American, Bar Food, Steak]             \n",
       "1874    [Fast Food]                             \n",
       "1875    [Burger, Bar Food]                      \n",
       "1876    [Pizza, Sandwich]                       \n",
       "1877    [Bar Food]                              \n",
       "1878    [Fast Food]                             \n",
       "1879    [American, Breakfast]                   \n",
       "1880    [Thai, Vegetarian, Tea]                 \n",
       "1881    [American, Coffee and Tea, Desserts]    \n",
       "1882    [Desserts, Sandwich, Ice Cream]         \n",
       "1883    [Fast Food, Tex-Mex]                    \n",
       "1884    [Southern, Cajun]                       \n",
       "1885    [American, Breakfast]                   \n",
       "1886    [American, Diner]                       \n",
       "1887    [Fast Food]                             \n",
       "1888    [Bar Food, Sandwich]                    \n",
       "1889    [Fast Food]                             \n",
       "1890    [Sandwich]                              \n",
       "1891    [Fast Food, Pizza]                      \n",
       "1892    [Fast Food]                             \n",
       "1893    [Fast Food]                             \n",
       "1894    [American, Breakfast, Southwestern]     \n",
       "1895    [Fast Food, Pizza]                      \n",
       "1896    [American, Breakfast, Diner]            \n",
       "1897    [Fast Food, Pizza]                      \n",
       "1898    [American]                              \n",
       "1899    [Fast Food, Ice Cream]                  \n",
       "1900    [Fast Food]                             \n",
       "1901    [Burger, Sandwich, Healthy Food]        \n",
       "Name: cuisines, Length: 1902, dtype: object"
      ]
     },
     "execution_count": 248,
     "metadata": {},
     "output_type": "execute_result"
    }
   ],
   "source": [
    "restc['cuisines']"
   ]
  },
  {
   "cell_type": "markdown",
   "metadata": {},
   "source": [
    "The cuisine data has words like Fast Food and Bar Food. If we find similarity between these two it will consider the food as same in both although they are clearly different entities. So we will strip the spaces between cuisine name. We also need to convert all the text data used to lowercase."
   ]
  },
  {
   "cell_type": "code",
   "execution_count": 249,
   "metadata": {},
   "outputs": [],
   "source": [
    "# Function to sanitize data to prevent ambiguity. \n",
    "# Removes spaces and converts to lowercase\n",
    "def sanitize(x):\n",
    "    if isinstance(x, list):\n",
    "        #Strip spaces and convert to lowercase\n",
    "        return [str.lower(i.replace(\" \", \"\")) for i in x]\n",
    "    else:\n",
    "        if isinstance(x, str):\n",
    "            return str.lower(x.replace(\"'\", \"\").replace(\"/\",\"\"))\n",
    "        else:\n",
    "            return ''"
   ]
  },
  {
   "cell_type": "code",
   "execution_count": 250,
   "metadata": {},
   "outputs": [],
   "source": [
    "for feature in ['rest_name', 'locality', 'cuisines', 'cost_for_two']:\n",
    "    restc[feature] = restc[feature].apply(sanitize)"
   ]
  },
  {
   "cell_type": "code",
   "execution_count": 251,
   "metadata": {},
   "outputs": [
    {
     "data": {
      "text/plain": [
       "list"
      ]
     },
     "execution_count": 251,
     "metadata": {},
     "output_type": "execute_result"
    }
   ],
   "source": [
    "type(restc['cuisines'].iloc[0])"
   ]
  },
  {
   "cell_type": "code",
   "execution_count": 252,
   "metadata": {},
   "outputs": [
    {
     "data": {
      "text/html": [
       "<div>\n",
       "<style scoped>\n",
       "    .dataframe tbody tr th:only-of-type {\n",
       "        vertical-align: middle;\n",
       "    }\n",
       "\n",
       "    .dataframe tbody tr th {\n",
       "        vertical-align: top;\n",
       "    }\n",
       "\n",
       "    .dataframe thead th {\n",
       "        text-align: right;\n",
       "    }\n",
       "</style>\n",
       "<table border=\"1\" class=\"dataframe\">\n",
       "  <thead>\n",
       "    <tr style=\"text-align: right;\">\n",
       "      <th></th>\n",
       "      <th>rest_id</th>\n",
       "      <th>rest_name</th>\n",
       "      <th>locality</th>\n",
       "      <th>cuisines</th>\n",
       "      <th>cost_for_two</th>\n",
       "    </tr>\n",
       "  </thead>\n",
       "  <tbody>\n",
       "    <tr>\n",
       "      <th>0</th>\n",
       "      <td>17114993</td>\n",
       "      <td>terrys turf club</td>\n",
       "      <td>hyde parkmount lookout</td>\n",
       "      <td>[burger, barfood, sandwich]</td>\n",
       "      <td>moderately_priced</td>\n",
       "    </tr>\n",
       "    <tr>\n",
       "      <th>1</th>\n",
       "      <td>17113965</td>\n",
       "      <td>nada</td>\n",
       "      <td>downtown</td>\n",
       "      <td>[breakfast, mexican]</td>\n",
       "      <td>pricey</td>\n",
       "    </tr>\n",
       "    <tr>\n",
       "      <th>2</th>\n",
       "      <td>17115298</td>\n",
       "      <td>zips cafe</td>\n",
       "      <td>hyde parkmount lookout</td>\n",
       "      <td>[burger, barfood, sandwich]</td>\n",
       "      <td>inexpensive</td>\n",
       "    </tr>\n",
       "    <tr>\n",
       "      <th>3</th>\n",
       "      <td>17112031</td>\n",
       "      <td>arthurs</td>\n",
       "      <td>hyde parkmount lookout</td>\n",
       "      <td>[burger, barfood, sandwich]</td>\n",
       "      <td>moderately_priced</td>\n",
       "    </tr>\n",
       "    <tr>\n",
       "      <th>4</th>\n",
       "      <td>17116251</td>\n",
       "      <td>senate</td>\n",
       "      <td>over-the-rhinemount auburn</td>\n",
       "      <td>[barfood]</td>\n",
       "      <td>moderately_priced</td>\n",
       "    </tr>\n",
       "  </tbody>\n",
       "</table>\n",
       "</div>"
      ],
      "text/plain": [
       "    rest_id         rest_name                    locality  \\\n",
       "0  17114993  terrys turf club  hyde parkmount lookout       \n",
       "1  17113965  nada              downtown                     \n",
       "2  17115298  zips cafe         hyde parkmount lookout       \n",
       "3  17112031  arthurs           hyde parkmount lookout       \n",
       "4  17116251  senate            over-the-rhinemount auburn   \n",
       "\n",
       "                      cuisines       cost_for_two  \n",
       "0  [burger, barfood, sandwich]  moderately_priced  \n",
       "1  [breakfast, mexican]         pricey             \n",
       "2  [burger, barfood, sandwich]  inexpensive        \n",
       "3  [burger, barfood, sandwich]  moderately_priced  \n",
       "4  [barfood]                    moderately_priced  "
      ]
     },
     "execution_count": 252,
     "metadata": {},
     "output_type": "execute_result"
    }
   ],
   "source": [
    "restc.head()"
   ]
  },
  {
   "cell_type": "markdown",
   "metadata": {},
   "source": [
    "Our model gave as should give much importance to locality and cost_for_two. We will mention it multiple times to give more weight to it."
   ]
  },
  {
   "cell_type": "code",
   "execution_count": 253,
   "metadata": {},
   "outputs": [],
   "source": [
    "#Function that creates a soup out of the desired metadata\n",
    "def create_soup(x):\n",
    "    return ''.join(x['rest_name']) + ' ' + ''.join(x['locality']) + ' ' + ' '.join(i for i in x['cuisines']) + ' ' + ''.join(x['cost_for_two']) + ' ' + ''.join(x['locality']) + ' ' + ' '.join(x['cuisines']) + ' ' + ''.join(x['cost_for_two']) + ' ' +  ''.join(x['locality'])\n"
   ]
  },
  {
   "cell_type": "code",
   "execution_count": 254,
   "metadata": {},
   "outputs": [],
   "source": [
    "restc['soup'] = restc.apply(create_soup, axis=1)"
   ]
  },
  {
   "cell_type": "code",
   "execution_count": 255,
   "metadata": {},
   "outputs": [],
   "source": [
    "pd.set_option('display.max_colwidth', -1)"
   ]
  },
  {
   "cell_type": "code",
   "execution_count": 256,
   "metadata": {},
   "outputs": [
    {
     "data": {
      "text/plain": [
       "0    terrys turf club hyde parkmount lookout burger barfood sandwich moderately_priced hyde parkmount lookout burger barfood sandwich moderately_priced hyde parkmount lookout\n",
       "1    nada downtown breakfast mexican pricey downtown breakfast mexican pricey downtown                                                                                        \n",
       "2    zips cafe hyde parkmount lookout burger barfood sandwich inexpensive hyde parkmount lookout burger barfood sandwich inexpensive hyde parkmount lookout                   \n",
       "3    arthurs hyde parkmount lookout burger barfood sandwich moderately_priced hyde parkmount lookout burger barfood sandwich moderately_priced hyde parkmount lookout         \n",
       "4    senate over-the-rhinemount auburn barfood moderately_priced over-the-rhinemount auburn barfood moderately_priced over-the-rhinemount auburn                              \n",
       "Name: soup, dtype: object"
      ]
     },
     "execution_count": 256,
     "metadata": {},
     "output_type": "execute_result"
    }
   ],
   "source": [
    "restc['soup'].head()"
   ]
  },
  {
   "cell_type": "markdown",
   "metadata": {},
   "source": [
    "With the soup created we are now in a good place to compute similarity scores and build a content based recommendor system. We will be using CountVectorizer here."
   ]
  },
  {
   "cell_type": "markdown",
   "metadata": {},
   "source": [
    "## Steps to create Content Based Recommendor\n",
    "\n",
    "1. Declare the restaurant name as an argument.\n",
    "2. Obtain the index of the restaurant name from the indices reverse mapping.\n",
    "3. Get the list of cosine similarity scores for that particular restaurant with all resturants using cosine_sim. Convert this into a list of tuples where the first element is the position and the second is the similarity score.\n",
    "4. Sort this list of tuples on the basis of the cosine similarity scores.\n",
    "5. Get the top 10 elements of this list. Ignore the first element as it refers to the similarity score with itself.\n",
    "6. Return the restaurant details corresponding to the indices of the top 10 elements, excluding the first."
   ]
  },
  {
   "cell_type": "code",
   "execution_count": 258,
   "metadata": {},
   "outputs": [],
   "source": [
    "#Define a new CountVectorizer object and create vectors for the soup\n",
    "count = CountVectorizer(stop_words='english')\n",
    "count_matrix = count.fit_transform(restc['soup'])"
   ]
  },
  {
   "cell_type": "code",
   "execution_count": 259,
   "metadata": {},
   "outputs": [],
   "source": [
    "#Compute the cosine similarity score \n",
    "cosine_sim = cosine_similarity(count_matrix, count_matrix)"
   ]
  },
  {
   "cell_type": "code",
   "execution_count": 260,
   "metadata": {},
   "outputs": [],
   "source": [
    "# Reset index of your df and construct reverse mapping again\n",
    "restc = restc.reset_index()\n",
    "# making restaurant name as the index\n",
    "indices = pd.Series(restc.index, index=restc['rest_name'])"
   ]
  },
  {
   "cell_type": "code",
   "execution_count": 264,
   "metadata": {},
   "outputs": [],
   "source": [
    "# Function that takes in restaurant name as input and gives recommendations \n",
    "def content_recommender(rest_name, cosine_sim, df, indices,df_orig):\n",
    "    # Obtain the index of the movie that matches the title\n",
    "    idx = indices[rest_name]\n",
    "\n",
    "    # Get the pairwsie similarity scores of all restaurants with the input restaurant\n",
    "    # And convert it into a list of tuples as described above\n",
    "    sim_scores = list(enumerate(cosine_sim[idx]))\n",
    "\n",
    "    # Sort the restaurants based on the cosine similarity scores\n",
    "    sim_scores = sorted(sim_scores, key=lambda x: x[1], reverse=True)\n",
    "\n",
    "    # Get the scores of the 10 most similar restaurants. Ignore the first restaurant as it will be the input restaurant itself.\n",
    "    sim_scores = sim_scores[1:11]\n",
    "\n",
    "    # Get the movie indices\n",
    "    movie_indices = [i[0] for i in sim_scores]\n",
    "\n",
    "    # Return the top 10 most similar movies\n",
    "    return df_orig.iloc[movie_indices]"
   ]
  },
  {
   "cell_type": "code",
   "execution_count": 265,
   "metadata": {},
   "outputs": [
    {
     "data": {
      "text/html": [
       "<div>\n",
       "<style scoped>\n",
       "    .dataframe tbody tr th:only-of-type {\n",
       "        vertical-align: middle;\n",
       "    }\n",
       "\n",
       "    .dataframe tbody tr th {\n",
       "        vertical-align: top;\n",
       "    }\n",
       "\n",
       "    .dataframe thead th {\n",
       "        text-align: right;\n",
       "    }\n",
       "</style>\n",
       "<table border=\"1\" class=\"dataframe\">\n",
       "  <thead>\n",
       "    <tr style=\"text-align: right;\">\n",
       "      <th></th>\n",
       "      <th>rest_id</th>\n",
       "      <th>rest_name</th>\n",
       "      <th>locality</th>\n",
       "      <th>cuisines</th>\n",
       "      <th>cost_for_two</th>\n",
       "    </tr>\n",
       "  </thead>\n",
       "  <tbody>\n",
       "    <tr>\n",
       "      <th>3</th>\n",
       "      <td>17112031</td>\n",
       "      <td>Arthur's</td>\n",
       "      <td>Hyde Park/Mount Lookout</td>\n",
       "      <td>[Burger, Bar Food, Sandwich]</td>\n",
       "      <td>Moderately_priced</td>\n",
       "    </tr>\n",
       "    <tr>\n",
       "      <th>190</th>\n",
       "      <td>17114520</td>\n",
       "      <td>Rusty Bucket Restaurant and Tavern</td>\n",
       "      <td>Hyde Park/Mount Lookout</td>\n",
       "      <td>[Burger, Bar Food, Sandwich]</td>\n",
       "      <td>Moderately_priced</td>\n",
       "    </tr>\n",
       "    <tr>\n",
       "      <th>318</th>\n",
       "      <td>17116611</td>\n",
       "      <td>Dutch's</td>\n",
       "      <td>Hyde Park/Mount Lookout</td>\n",
       "      <td>[Bar Food]</td>\n",
       "      <td>Moderately_priced</td>\n",
       "    </tr>\n",
       "    <tr>\n",
       "      <th>2</th>\n",
       "      <td>17115298</td>\n",
       "      <td>Zip's Cafe</td>\n",
       "      <td>Hyde Park/Mount Lookout</td>\n",
       "      <td>[Burger, Bar Food, Sandwich]</td>\n",
       "      <td>Inexpensive</td>\n",
       "    </tr>\n",
       "    <tr>\n",
       "      <th>235</th>\n",
       "      <td>17116863</td>\n",
       "      <td>Keystone Bar &amp; Grill</td>\n",
       "      <td>Hyde Park/Mount Lookout</td>\n",
       "      <td>[Burger, Bar Food, Sandwich]</td>\n",
       "      <td>Inexpensive</td>\n",
       "    </tr>\n",
       "    <tr>\n",
       "      <th>310</th>\n",
       "      <td>17117195</td>\n",
       "      <td>Wurst Bar in the Square</td>\n",
       "      <td>Hyde Park/Mount Lookout</td>\n",
       "      <td>[Bar Food]</td>\n",
       "      <td>Moderately_priced</td>\n",
       "    </tr>\n",
       "    <tr>\n",
       "      <th>630</th>\n",
       "      <td>17112272</td>\n",
       "      <td>Buffalo Wild Wings</td>\n",
       "      <td>Hyde Park/Mount Lookout</td>\n",
       "      <td>[Bar Food]</td>\n",
       "      <td>Moderately_priced</td>\n",
       "    </tr>\n",
       "    <tr>\n",
       "      <th>135</th>\n",
       "      <td>17116691</td>\n",
       "      <td>Cock &amp; Bull Public House</td>\n",
       "      <td>Hyde Park/Mount Lookout</td>\n",
       "      <td>[American, Burger]</td>\n",
       "      <td>Moderately_priced</td>\n",
       "    </tr>\n",
       "    <tr>\n",
       "      <th>570</th>\n",
       "      <td>17113654</td>\n",
       "      <td>LongHorn Steakhouse</td>\n",
       "      <td>Hyde Park/Mount Lookout</td>\n",
       "      <td>[Burger, Bar Food, Steak]</td>\n",
       "      <td>Pricey</td>\n",
       "    </tr>\n",
       "    <tr>\n",
       "      <th>845</th>\n",
       "      <td>17116005</td>\n",
       "      <td>The Redmoor</td>\n",
       "      <td>Hyde Park/Mount Lookout</td>\n",
       "      <td>[American]</td>\n",
       "      <td>Moderately_priced</td>\n",
       "    </tr>\n",
       "  </tbody>\n",
       "</table>\n",
       "</div>"
      ],
      "text/plain": [
       "      rest_id                           rest_name                 locality  \\\n",
       "3    17112031  Arthur's                            Hyde Park/Mount Lookout   \n",
       "190  17114520  Rusty Bucket Restaurant and Tavern  Hyde Park/Mount Lookout   \n",
       "318  17116611  Dutch's                             Hyde Park/Mount Lookout   \n",
       "2    17115298  Zip's Cafe                          Hyde Park/Mount Lookout   \n",
       "235  17116863  Keystone Bar & Grill                Hyde Park/Mount Lookout   \n",
       "310  17117195  Wurst Bar in the Square             Hyde Park/Mount Lookout   \n",
       "630  17112272  Buffalo Wild Wings                  Hyde Park/Mount Lookout   \n",
       "135  17116691  Cock & Bull Public House            Hyde Park/Mount Lookout   \n",
       "570  17113654  LongHorn Steakhouse                 Hyde Park/Mount Lookout   \n",
       "845  17116005  The Redmoor                         Hyde Park/Mount Lookout   \n",
       "\n",
       "                         cuisines       cost_for_two  \n",
       "3    [Burger, Bar Food, Sandwich]  Moderately_priced  \n",
       "190  [Burger, Bar Food, Sandwich]  Moderately_priced  \n",
       "318  [Bar Food]                    Moderately_priced  \n",
       "2    [Burger, Bar Food, Sandwich]  Inexpensive        \n",
       "235  [Burger, Bar Food, Sandwich]  Inexpensive        \n",
       "310  [Bar Food]                    Moderately_priced  \n",
       "630  [Bar Food]                    Moderately_priced  \n",
       "135  [American, Burger]            Moderately_priced  \n",
       "570  [Burger, Bar Food, Steak]     Pricey             \n",
       "845  [American]                    Moderately_priced  "
      ]
     },
     "execution_count": 265,
     "metadata": {},
     "output_type": "execute_result"
    }
   ],
   "source": [
    "content_recommender('terrys turf club', cosine_sim, restc, indices,rest)"
   ]
  },
  {
   "cell_type": "code",
   "execution_count": null,
   "metadata": {},
   "outputs": [],
   "source": []
  }
 ],
 "metadata": {
  "kernelspec": {
   "display_name": "Python 3",
   "language": "python",
   "name": "python3"
  },
  "language_info": {
   "codemirror_mode": {
    "name": "ipython",
    "version": 3
   },
   "file_extension": ".py",
   "mimetype": "text/x-python",
   "name": "python",
   "nbconvert_exporter": "python",
   "pygments_lexer": "ipython3",
   "version": "3.7.3"
  }
 },
 "nbformat": 4,
 "nbformat_minor": 2
}
