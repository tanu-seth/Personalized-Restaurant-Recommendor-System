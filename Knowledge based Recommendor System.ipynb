{
 "cells": [
  {
   "cell_type": "markdown",
   "metadata": {},
   "source": [
    "## Knowledge based recommendors \n",
    "\n",
    "These recommenders are used for items that are very rarely bought. It is simply impossible to recommend such items based on past purchasing activity or by building a user profile. Take real estate, for instance. Real estate is usually a once-in-a-lifetime purchase for a family. It is not possible to have a history of real estate purchases for existing users to leverage into a collaborative filter, nor is it always feasible to ask a user their real estate purchase history.\n",
    "\n",
    "Knowledge based recommendors are not the first choice for building restaurant recommendor for Zomato. But since our data was scraped and we do not have individual user rating info and details, we cannot implement collaborative filter which would be the optimal solution for this case.\n",
    "\n",
    "Let us see which restaurants will make to the top using knowledge based recommendors on this data."
   ]
  },
  {
   "cell_type": "code",
   "execution_count": 1,
   "metadata": {},
   "outputs": [],
   "source": [
    "import pandas as pd\n",
    "import numpy as np\n",
    "from ast import literal_eval"
   ]
  },
  {
   "cell_type": "markdown",
   "metadata": {},
   "source": [
    "Reading the cleaned data as a dataframe"
   ]
  },
  {
   "cell_type": "code",
   "execution_count": 2,
   "metadata": {},
   "outputs": [],
   "source": [
    "df =  pd.read_csv('Zomato_Cincinnati_Restaurant_Clean.csv')"
   ]
  },
  {
   "cell_type": "code",
   "execution_count": 3,
   "metadata": {},
   "outputs": [
    {
     "data": {
      "text/html": [
       "<div>\n",
       "<style scoped>\n",
       "    .dataframe tbody tr th:only-of-type {\n",
       "        vertical-align: middle;\n",
       "    }\n",
       "\n",
       "    .dataframe tbody tr th {\n",
       "        vertical-align: top;\n",
       "    }\n",
       "\n",
       "    .dataframe thead th {\n",
       "        text-align: right;\n",
       "    }\n",
       "</style>\n",
       "<table border=\"1\" class=\"dataframe\">\n",
       "  <thead>\n",
       "    <tr style=\"text-align: right;\">\n",
       "      <th></th>\n",
       "      <th>rest_id</th>\n",
       "      <th>rest_name</th>\n",
       "      <th>locality</th>\n",
       "      <th>cuisines</th>\n",
       "      <th>cost_for_two</th>\n",
       "      <th>ratings</th>\n",
       "      <th>votes</th>\n",
       "    </tr>\n",
       "  </thead>\n",
       "  <tbody>\n",
       "    <tr>\n",
       "      <th>0</th>\n",
       "      <td>17114993</td>\n",
       "      <td>Terry's Turf Club</td>\n",
       "      <td>Hyde Park/Mount Lookout</td>\n",
       "      <td>['Burger', 'Bar Food', 'Sandwich']</td>\n",
       "      <td>Moderately_priced</td>\n",
       "      <td>4.7</td>\n",
       "      <td>1038</td>\n",
       "    </tr>\n",
       "    <tr>\n",
       "      <th>1</th>\n",
       "      <td>17113965</td>\n",
       "      <td>Nada</td>\n",
       "      <td>Downtown</td>\n",
       "      <td>['Breakfast', 'Mexican']</td>\n",
       "      <td>Pricey</td>\n",
       "      <td>4.6</td>\n",
       "      <td>933</td>\n",
       "    </tr>\n",
       "    <tr>\n",
       "      <th>2</th>\n",
       "      <td>17115298</td>\n",
       "      <td>Zip's Cafe</td>\n",
       "      <td>Hyde Park/Mount Lookout</td>\n",
       "      <td>['Burger', 'Bar Food', 'Sandwich']</td>\n",
       "      <td>Inexpensive</td>\n",
       "      <td>4.7</td>\n",
       "      <td>694</td>\n",
       "    </tr>\n",
       "    <tr>\n",
       "      <th>3</th>\n",
       "      <td>17112031</td>\n",
       "      <td>Arthur's</td>\n",
       "      <td>Hyde Park/Mount Lookout</td>\n",
       "      <td>['Burger', 'Bar Food', 'Sandwich']</td>\n",
       "      <td>Moderately_priced</td>\n",
       "      <td>4.7</td>\n",
       "      <td>632</td>\n",
       "    </tr>\n",
       "    <tr>\n",
       "      <th>4</th>\n",
       "      <td>17116251</td>\n",
       "      <td>Senate</td>\n",
       "      <td>Over-the-Rhine/Mount Auburn</td>\n",
       "      <td>['Bar Food']</td>\n",
       "      <td>Moderately_priced</td>\n",
       "      <td>4.6</td>\n",
       "      <td>596</td>\n",
       "    </tr>\n",
       "  </tbody>\n",
       "</table>\n",
       "</div>"
      ],
      "text/plain": [
       "    rest_id          rest_name                     locality  \\\n",
       "0  17114993  Terry's Turf Club      Hyde Park/Mount Lookout   \n",
       "1  17113965               Nada                     Downtown   \n",
       "2  17115298         Zip's Cafe      Hyde Park/Mount Lookout   \n",
       "3  17112031           Arthur's      Hyde Park/Mount Lookout   \n",
       "4  17116251             Senate  Over-the-Rhine/Mount Auburn   \n",
       "\n",
       "                             cuisines       cost_for_two  ratings  votes  \n",
       "0  ['Burger', 'Bar Food', 'Sandwich']  Moderately_priced      4.7   1038  \n",
       "1            ['Breakfast', 'Mexican']             Pricey      4.6    933  \n",
       "2  ['Burger', 'Bar Food', 'Sandwich']        Inexpensive      4.7    694  \n",
       "3  ['Burger', 'Bar Food', 'Sandwich']  Moderately_priced      4.7    632  \n",
       "4                        ['Bar Food']  Moderately_priced      4.6    596  "
      ]
     },
     "execution_count": 3,
     "metadata": {},
     "output_type": "execute_result"
    }
   ],
   "source": [
    "df.head()"
   ]
  },
  {
   "cell_type": "code",
   "execution_count": 4,
   "metadata": {},
   "outputs": [
    {
     "data": {
      "text/html": [
       "<div>\n",
       "<style scoped>\n",
       "    .dataframe tbody tr th:only-of-type {\n",
       "        vertical-align: middle;\n",
       "    }\n",
       "\n",
       "    .dataframe tbody tr th {\n",
       "        vertical-align: top;\n",
       "    }\n",
       "\n",
       "    .dataframe thead th {\n",
       "        text-align: right;\n",
       "    }\n",
       "</style>\n",
       "<table border=\"1\" class=\"dataframe\">\n",
       "  <thead>\n",
       "    <tr style=\"text-align: right;\">\n",
       "      <th></th>\n",
       "      <th>rest_id</th>\n",
       "      <th>rest_name</th>\n",
       "      <th>locality</th>\n",
       "      <th>cuisines</th>\n",
       "      <th>cost_for_two</th>\n",
       "      <th>ratings</th>\n",
       "      <th>votes</th>\n",
       "    </tr>\n",
       "  </thead>\n",
       "  <tbody>\n",
       "    <tr>\n",
       "      <th>1897</th>\n",
       "      <td>17414944</td>\n",
       "      <td>Papa John's Pizza</td>\n",
       "      <td>Lawrenceburg</td>\n",
       "      <td>['Fast Food', 'Pizza']</td>\n",
       "      <td>Inexpensive</td>\n",
       "      <td>3.2</td>\n",
       "      <td>1</td>\n",
       "    </tr>\n",
       "    <tr>\n",
       "      <th>1898</th>\n",
       "      <td>17414928</td>\n",
       "      <td>Frisch's Big Boy</td>\n",
       "      <td>Lawrenceburg</td>\n",
       "      <td>['American']</td>\n",
       "      <td>Inexpensive</td>\n",
       "      <td>3.2</td>\n",
       "      <td>1</td>\n",
       "    </tr>\n",
       "    <tr>\n",
       "      <th>1899</th>\n",
       "      <td>17412859</td>\n",
       "      <td>Dairy Queen</td>\n",
       "      <td>Aurora</td>\n",
       "      <td>['Fast Food', 'Ice Cream']</td>\n",
       "      <td>Inexpensive</td>\n",
       "      <td>3.0</td>\n",
       "      <td>4</td>\n",
       "    </tr>\n",
       "    <tr>\n",
       "      <th>1900</th>\n",
       "      <td>17414931</td>\n",
       "      <td>Gold Star Chili</td>\n",
       "      <td>Lawrenceburg</td>\n",
       "      <td>['Fast Food']</td>\n",
       "      <td>Inexpensive</td>\n",
       "      <td>3.2</td>\n",
       "      <td>4</td>\n",
       "    </tr>\n",
       "    <tr>\n",
       "      <th>1901</th>\n",
       "      <td>17418717</td>\n",
       "      <td>Bob O's at the Levee</td>\n",
       "      <td>Lawrenceburg</td>\n",
       "      <td>['Burger', 'Sandwich', 'Healthy Food']</td>\n",
       "      <td>Inexpensive</td>\n",
       "      <td>3.2</td>\n",
       "      <td>4</td>\n",
       "    </tr>\n",
       "  </tbody>\n",
       "</table>\n",
       "</div>"
      ],
      "text/plain": [
       "       rest_id             rest_name      locality  \\\n",
       "1897  17414944     Papa John's Pizza  Lawrenceburg   \n",
       "1898  17414928      Frisch's Big Boy  Lawrenceburg   \n",
       "1899  17412859           Dairy Queen        Aurora   \n",
       "1900  17414931       Gold Star Chili  Lawrenceburg   \n",
       "1901  17418717  Bob O's at the Levee  Lawrenceburg   \n",
       "\n",
       "                                    cuisines cost_for_two  ratings  votes  \n",
       "1897                  ['Fast Food', 'Pizza']  Inexpensive      3.2      1  \n",
       "1898                            ['American']  Inexpensive      3.2      1  \n",
       "1899              ['Fast Food', 'Ice Cream']  Inexpensive      3.0      4  \n",
       "1900                           ['Fast Food']  Inexpensive      3.2      4  \n",
       "1901  ['Burger', 'Sandwich', 'Healthy Food']  Inexpensive      3.2      4  "
      ]
     },
     "execution_count": 4,
     "metadata": {},
     "output_type": "execute_result"
    }
   ],
   "source": [
    "df.tail()"
   ]
  },
  {
   "cell_type": "code",
   "execution_count": 5,
   "metadata": {},
   "outputs": [
    {
     "data": {
      "text/plain": [
       "Index(['rest_id', 'rest_name', 'locality', 'cuisines', 'cost_for_two',\n",
       "       'ratings', 'votes'],\n",
       "      dtype='object')"
      ]
     },
     "execution_count": 5,
     "metadata": {},
     "output_type": "execute_result"
    }
   ],
   "source": [
    "df.columns"
   ]
  },
  {
   "cell_type": "markdown",
   "metadata": {},
   "source": [
    "This will be a simple recommendor system that will perform the following tasks. Ask the user for her/his preferences of :\n",
    "* Locality\n",
    "* Cusinies\n",
    "* Budget for restaurant "
   ]
  },
  {
   "cell_type": "markdown",
   "metadata": {},
   "source": [
    "Let's convert the cuisines to a list form"
   ]
  },
  {
   "cell_type": "code",
   "execution_count": 6,
   "metadata": {},
   "outputs": [
    {
     "data": {
      "text/plain": [
       "str"
      ]
     },
     "execution_count": 6,
     "metadata": {},
     "output_type": "execute_result"
    }
   ],
   "source": [
    "type(df['cuisines'].iloc[0])"
   ]
  },
  {
   "cell_type": "code",
   "execution_count": 7,
   "metadata": {},
   "outputs": [],
   "source": [
    "df['cuisines'] = df['cuisines'].apply(literal_eval)"
   ]
  },
  {
   "cell_type": "code",
   "execution_count": 8,
   "metadata": {},
   "outputs": [
    {
     "data": {
      "text/plain": [
       "list"
      ]
     },
     "execution_count": 8,
     "metadata": {},
     "output_type": "execute_result"
    }
   ],
   "source": [
    "type(df['cuisines'].iloc[0])"
   ]
  },
  {
   "cell_type": "code",
   "execution_count": 9,
   "metadata": {},
   "outputs": [],
   "source": [
    "df=df.reset_index().drop('index',axis=1)"
   ]
  },
  {
   "cell_type": "markdown",
   "metadata": {},
   "source": [
    "Let's explode the cuisines column. In other words, if a particular restaurant has multiple cuisines, we will create multiple copies of the restaurant, with each movie having one of the cuisines in the list."
   ]
  },
  {
   "cell_type": "code",
   "execution_count": 10,
   "metadata": {},
   "outputs": [
    {
     "data": {
      "text/html": [
       "<div>\n",
       "<style scoped>\n",
       "    .dataframe tbody tr th:only-of-type {\n",
       "        vertical-align: middle;\n",
       "    }\n",
       "\n",
       "    .dataframe tbody tr th {\n",
       "        vertical-align: top;\n",
       "    }\n",
       "\n",
       "    .dataframe thead th {\n",
       "        text-align: right;\n",
       "    }\n",
       "</style>\n",
       "<table border=\"1\" class=\"dataframe\">\n",
       "  <thead>\n",
       "    <tr style=\"text-align: right;\">\n",
       "      <th></th>\n",
       "      <th>rest_id</th>\n",
       "      <th>rest_name</th>\n",
       "      <th>locality</th>\n",
       "      <th>cost_for_two</th>\n",
       "      <th>ratings</th>\n",
       "      <th>votes</th>\n",
       "      <th>cuisine</th>\n",
       "    </tr>\n",
       "  </thead>\n",
       "  <tbody>\n",
       "    <tr>\n",
       "      <th>0</th>\n",
       "      <td>17114993</td>\n",
       "      <td>Terry's Turf Club</td>\n",
       "      <td>Hyde Park/Mount Lookout</td>\n",
       "      <td>Moderately_priced</td>\n",
       "      <td>4.7</td>\n",
       "      <td>1038</td>\n",
       "      <td>Burger</td>\n",
       "    </tr>\n",
       "    <tr>\n",
       "      <th>0</th>\n",
       "      <td>17114993</td>\n",
       "      <td>Terry's Turf Club</td>\n",
       "      <td>Hyde Park/Mount Lookout</td>\n",
       "      <td>Moderately_priced</td>\n",
       "      <td>4.7</td>\n",
       "      <td>1038</td>\n",
       "      <td>Bar Food</td>\n",
       "    </tr>\n",
       "    <tr>\n",
       "      <th>0</th>\n",
       "      <td>17114993</td>\n",
       "      <td>Terry's Turf Club</td>\n",
       "      <td>Hyde Park/Mount Lookout</td>\n",
       "      <td>Moderately_priced</td>\n",
       "      <td>4.7</td>\n",
       "      <td>1038</td>\n",
       "      <td>Sandwich</td>\n",
       "    </tr>\n",
       "    <tr>\n",
       "      <th>1</th>\n",
       "      <td>17113965</td>\n",
       "      <td>Nada</td>\n",
       "      <td>Downtown</td>\n",
       "      <td>Pricey</td>\n",
       "      <td>4.6</td>\n",
       "      <td>933</td>\n",
       "      <td>Breakfast</td>\n",
       "    </tr>\n",
       "    <tr>\n",
       "      <th>1</th>\n",
       "      <td>17113965</td>\n",
       "      <td>Nada</td>\n",
       "      <td>Downtown</td>\n",
       "      <td>Pricey</td>\n",
       "      <td>4.6</td>\n",
       "      <td>933</td>\n",
       "      <td>Mexican</td>\n",
       "    </tr>\n",
       "  </tbody>\n",
       "</table>\n",
       "</div>"
      ],
      "text/plain": [
       "    rest_id          rest_name                 locality       cost_for_two  \\\n",
       "0  17114993  Terry's Turf Club  Hyde Park/Mount Lookout  Moderately_priced   \n",
       "0  17114993  Terry's Turf Club  Hyde Park/Mount Lookout  Moderately_priced   \n",
       "0  17114993  Terry's Turf Club  Hyde Park/Mount Lookout  Moderately_priced   \n",
       "1  17113965               Nada                 Downtown             Pricey   \n",
       "1  17113965               Nada                 Downtown             Pricey   \n",
       "\n",
       "   ratings  votes    cuisine  \n",
       "0      4.7   1038     Burger  \n",
       "0      4.7   1038   Bar Food  \n",
       "0      4.7   1038   Sandwich  \n",
       "1      4.6    933  Breakfast  \n",
       "1      4.6    933    Mexican  "
      ]
     },
     "execution_count": 10,
     "metadata": {},
     "output_type": "execute_result"
    }
   ],
   "source": [
    "#Create a new feature by exploding cuisines\n",
    "s = df.apply(lambda x: pd.Series(x['cuisines']),axis=1).stack().reset_index(level=1, drop=True)\n",
    "\n",
    "#Name the new feature as 'cuisine'\n",
    "s.name = 'cuisine'\n",
    "\n",
    "#Create a new dataframe cuisine_df which by dropping the old 'cuisines' feature and adding the new 'cuisine'.\n",
    "cuisine_df = df.drop('cuisines', axis=1).join(s)\n",
    "\n",
    "#Print the head of the new cuisine_df\n",
    "cuisine_df.head()"
   ]
  },
  {
   "cell_type": "code",
   "execution_count": 11,
   "metadata": {},
   "outputs": [
    {
     "data": {
      "text/plain": [
       "array(['Hyde Park/Mount Lookout', 'Downtown',\n",
       "       'Over-the-Rhine/Mount Auburn', 'Clifton/Avondale',\n",
       "       'East End/Mount Washington', 'Campbell County', 'Montgomery',\n",
       "       'Northside', 'Springdale', 'Blue Ash', 'Covington',\n",
       "       'Price Hill/Fairmount', 'Mariemont', 'Norwood', 'West Chester',\n",
       "       'Deer Park/Madeira', 'Madisonville', 'Cold Spring/Alexandria',\n",
       "       'Mason', 'Symmes', 'Loveland', 'Fairfax',\n",
       "       'Walnut Hills/Mount Adams', 'Oakley/Pleasant Ridge',\n",
       "       'Crescent Springs/Fort Wright', 'Cheviot/Westwood',\n",
       "       'Anderson Township', 'Milford',\n",
       "       'Wyoming/Arlington Heights/Reading', 'Florence', 'Sharonville',\n",
       "       'Independence', 'Colerain Township', 'Fairfield',\n",
       "       'College Hill/Mt Healthy', 'Monfort Heights/White Oak',\n",
       "       'Plaineville', 'Lebanon', 'Golf Manor', 'Withamsville', 'Landen',\n",
       "       'St Bernard/Elmwood Place', 'Erlanger', 'Oxford',\n",
       "       'Crestview Hills', 'Newtown', 'Cleves', 'Delhi', 'Union Township',\n",
       "       'Batavia', 'Hamilton', 'North Bend', 'Harrison', 'New Richmond',\n",
       "       'Maineville', 'Trenton', 'Middletown', 'Burlington', 'Amelia',\n",
       "       'Williamsburg', 'Mount Orab', 'Walton', 'Forest Park',\n",
       "       'Georgetown', 'Hebron', 'Carthage', 'Felicity', 'South Lebanon',\n",
       "       'Blanchester', 'Oregonia', 'Bond Hill', 'Clarksville', 'Camden',\n",
       "       'Okeana', 'Goshen', 'Greenhills', 'Morrow', 'California',\n",
       "       'Lynchburg', 'Fayetteville', 'Bethel', 'Hamersville', 'Greendale',\n",
       "       'Aurora', 'Lawrenceburg', 'West Harrison', 'Rising Sun',\n",
       "       'Crittenden', 'Patriot', 'Guilford', 'Bright'], dtype=object)"
      ]
     },
     "execution_count": 11,
     "metadata": {},
     "output_type": "execute_result"
    }
   ],
   "source": [
    "cuisine_df['locality'].unique()"
   ]
  },
  {
   "cell_type": "code",
   "execution_count": 18,
   "metadata": {},
   "outputs": [],
   "source": [
    "def find_resturants(df, percentile=0.8):\n",
    "    #Ask for preferred locality\n",
    "    print(\"Input preferred Locality\")\n",
    "    locality = input()\n",
    "    \n",
    "     #Ask for preferred budget\n",
    "    print(\"Input preferred budget\")\n",
    "    budget = input()\n",
    "    \n",
    "    #Ask for preferred cuisine\n",
    "    print(\"Input preferred cuisine\")\n",
    "    cuisine = input()\n",
    "    \n",
    "    #Define a new rest variable to store the preferred rest. Copy the contents of df to rest\n",
    "    rest = df.copy()\n",
    "    \n",
    "    #Filter based on the condition\n",
    "    rest = rest[(rest['locality'] == locality) & \n",
    "                    (rest['cost_for_two'] == budget) & \n",
    "                    (rest['cuisine'] == cuisine)]\n",
    "    \n",
    "    #Compute the values of C and m for the filtered rest\n",
    "    C = rest['ratings'].mean()\n",
    "    m = rest['votes'].quantile(percentile)\n",
    "    \n",
    "    #Only consider restaurants that have higher than m votes. Save this in a new dataframe m_rest\n",
    "    m_rest = rest.copy().loc[rest['votes'] >= m]\n",
    "    \n",
    "    #Calculate score using the weighted avg formula\n",
    "    m_rest['score'] = m_rest.apply(lambda x: (x['votes']/(x['votes']+m) * x['ratings']) \n",
    "                                       + (m/(m+x['ratings']) * C)\n",
    "                                       ,axis=1)\n",
    "\n",
    "    #Sort restaurants in descending order of their scores\n",
    "    m_rest = m_rest.sort_values('score', ascending=False)\n",
    "    \n",
    "    return m_rest"
   ]
  },
  {
   "cell_type": "code",
   "execution_count": 19,
   "metadata": {},
   "outputs": [
    {
     "name": "stdout",
     "output_type": "stream",
     "text": [
      "Input preferred Locality\n",
      "Downtown\n",
      "Input preferred budget\n",
      "Moderately_priced\n",
      "Input preferred cuisine\n",
      "Sandwich\n"
     ]
    },
    {
     "data": {
      "text/html": [
       "<div>\n",
       "<style scoped>\n",
       "    .dataframe tbody tr th:only-of-type {\n",
       "        vertical-align: middle;\n",
       "    }\n",
       "\n",
       "    .dataframe tbody tr th {\n",
       "        vertical-align: top;\n",
       "    }\n",
       "\n",
       "    .dataframe thead th {\n",
       "        text-align: right;\n",
       "    }\n",
       "</style>\n",
       "<table border=\"1\" class=\"dataframe\">\n",
       "  <thead>\n",
       "    <tr style=\"text-align: right;\">\n",
       "      <th></th>\n",
       "      <th>rest_id</th>\n",
       "      <th>rest_name</th>\n",
       "      <th>locality</th>\n",
       "      <th>cost_for_two</th>\n",
       "      <th>ratings</th>\n",
       "      <th>votes</th>\n",
       "      <th>cuisine</th>\n",
       "      <th>score</th>\n",
       "    </tr>\n",
       "  </thead>\n",
       "  <tbody>\n",
       "    <tr>\n",
       "      <th>33</th>\n",
       "      <td>17112027</td>\n",
       "      <td>Arnold's Bar &amp; Grill</td>\n",
       "      <td>Downtown</td>\n",
       "      <td>Moderately_priced</td>\n",
       "      <td>4.3</td>\n",
       "      <td>319</td>\n",
       "      <td>Sandwich</td>\n",
       "      <td>6.095649</td>\n",
       "    </tr>\n",
       "    <tr>\n",
       "      <th>30</th>\n",
       "      <td>17114481</td>\n",
       "      <td>Rock Bottom Brewery</td>\n",
       "      <td>Downtown</td>\n",
       "      <td>Moderately_priced</td>\n",
       "      <td>4.0</td>\n",
       "      <td>305</td>\n",
       "      <td>Sandwich</td>\n",
       "      <td>5.874240</td>\n",
       "    </tr>\n",
       "  </tbody>\n",
       "</table>\n",
       "</div>"
      ],
      "text/plain": [
       "     rest_id             rest_name  locality       cost_for_two  ratings  \\\n",
       "33  17112027  Arnold's Bar & Grill  Downtown  Moderately_priced      4.3   \n",
       "30  17114481   Rock Bottom Brewery  Downtown  Moderately_priced      4.0   \n",
       "\n",
       "    votes   cuisine     score  \n",
       "33    319  Sandwich  6.095649  \n",
       "30    305  Sandwich  5.874240  "
      ]
     },
     "execution_count": 19,
     "metadata": {},
     "output_type": "execute_result"
    }
   ],
   "source": [
    "find_resturants(cuisine_df).head()"
   ]
  },
  {
   "cell_type": "code",
   "execution_count": 20,
   "metadata": {},
   "outputs": [
    {
     "name": "stdout",
     "output_type": "stream",
     "text": [
      "Input preferred Locality\n",
      "Downtown\n",
      "Input preferred budget\n",
      "Pricey\n",
      "Input preferred cuisine\n",
      "Bar Food\n"
     ]
    },
    {
     "data": {
      "text/html": [
       "<div>\n",
       "<style scoped>\n",
       "    .dataframe tbody tr th:only-of-type {\n",
       "        vertical-align: middle;\n",
       "    }\n",
       "\n",
       "    .dataframe tbody tr th {\n",
       "        vertical-align: top;\n",
       "    }\n",
       "\n",
       "    .dataframe thead th {\n",
       "        text-align: right;\n",
       "    }\n",
       "</style>\n",
       "<table border=\"1\" class=\"dataframe\">\n",
       "  <thead>\n",
       "    <tr style=\"text-align: right;\">\n",
       "      <th></th>\n",
       "      <th>rest_id</th>\n",
       "      <th>rest_name</th>\n",
       "      <th>locality</th>\n",
       "      <th>cost_for_two</th>\n",
       "      <th>ratings</th>\n",
       "      <th>votes</th>\n",
       "      <th>cuisine</th>\n",
       "      <th>score</th>\n",
       "    </tr>\n",
       "  </thead>\n",
       "  <tbody>\n",
       "    <tr>\n",
       "      <th>7</th>\n",
       "      <td>17116915</td>\n",
       "      <td>Moerlein Lager House</td>\n",
       "      <td>Downtown</td>\n",
       "      <td>Pricey</td>\n",
       "      <td>4.2</td>\n",
       "      <td>503</td>\n",
       "      <td>Bar Food</td>\n",
       "      <td>6.253535</td>\n",
       "    </tr>\n",
       "  </tbody>\n",
       "</table>\n",
       "</div>"
      ],
      "text/plain": [
       "    rest_id             rest_name  locality cost_for_two  ratings  votes  \\\n",
       "7  17116915  Moerlein Lager House  Downtown       Pricey      4.2    503   \n",
       "\n",
       "    cuisine     score  \n",
       "7  Bar Food  6.253535  "
      ]
     },
     "execution_count": 20,
     "metadata": {},
     "output_type": "execute_result"
    }
   ],
   "source": [
    "find_resturants(cuisine_df).head()"
   ]
  }
 ],
 "metadata": {
  "kernelspec": {
   "display_name": "Python 3",
   "language": "python",
   "name": "python3"
  },
  "language_info": {
   "codemirror_mode": {
    "name": "ipython",
    "version": 3
   },
   "file_extension": ".py",
   "mimetype": "text/x-python",
   "name": "python",
   "nbconvert_exporter": "python",
   "pygments_lexer": "ipython3",
   "version": "3.7.3"
  }
 },
 "nbformat": 4,
 "nbformat_minor": 2
}
